{
 "cells": [
  {
   "cell_type": "markdown",
   "id": "73b21157",
   "metadata": {},
   "source": [
    "# Basic Problems:"
   ]
  },
  {
   "cell_type": "markdown",
   "id": "d404fe8f",
   "metadata": {},
   "source": [
    "1. Variable Swap: Write a Python program to swap the values of two variables without using a temporary variable."
   ]
  },
  {
   "cell_type": "code",
   "execution_count": 1,
   "id": "6cac0829",
   "metadata": {
    "scrolled": true
   },
   "outputs": [
    {
     "name": "stdout",
     "output_type": "stream",
     "text": [
      "After swapping:\n",
      "a = 10\n",
      "b = 5\n"
     ]
    }
   ],
   "source": [
    "a = 5\n",
    "b = 10\n",
    "\n",
    "\n",
    "a = a + b\n",
    "b = a - b\n",
    "a = a - b\n",
    "\n",
    "print(\"After swapping:\")\n",
    "print(\"a =\", a)\n",
    "print(\"b =\", b)"
   ]
  },
  {
   "cell_type": "markdown",
   "id": "0d8d39a1",
   "metadata": {},
   "source": [
    "2. Even or Odd: Write a Python program that takes an integer as input and prints whether it is even or odd."
   ]
  },
  {
   "cell_type": "code",
   "execution_count": 2,
   "id": "2fa3c76a",
   "metadata": {},
   "outputs": [
    {
     "name": "stdout",
     "output_type": "stream",
     "text": [
      "Enter an integer: 5\n",
      "5 is odd.\n"
     ]
    }
   ],
   "source": [
    "number = int(input(\"Enter an integer: \"))\n",
    "\n",
    "\n",
    "if number % 2 == 0:\n",
    "    print(number, \"is even.\")\n",
    "else:\n",
    "    print(number, \"is odd.\")"
   ]
  },
  {
   "cell_type": "markdown",
   "id": "d1034baa",
   "metadata": {},
   "source": [
    "3. String Reverse: Write a Python function to reverse a given string and return the reversed string."
   ]
  },
  {
   "cell_type": "code",
   "execution_count": 3,
   "id": "65e566c8",
   "metadata": {},
   "outputs": [
    {
     "name": "stdout",
     "output_type": "stream",
     "text": [
      "Original String: Hello, World!\n",
      "Reversed String: !dlroW ,olleH\n"
     ]
    }
   ],
   "source": [
    "def reverse(input):\n",
    "    return input[::-1]\n",
    "\n",
    "\n",
    "original_string = \"Hello, World!\"\n",
    "reversed_str = reverse(original_string)\n",
    "print(\"Original String:\", original_string)\n",
    "print(\"Reversed String:\", reversed_str)"
   ]
  },
  {
   "cell_type": "markdown",
   "id": "413e232b",
   "metadata": {},
   "source": [
    "4. Type Conversion: Given a list of integers, write a Python program to convert each element of the list to a string."
   ]
  },
  {
   "cell_type": "code",
   "execution_count": 4,
   "id": "cf6cc130",
   "metadata": {},
   "outputs": [
    {
     "name": "stdout",
     "output_type": "stream",
     "text": [
      "Original List of Integers: [1, 2, 3, 4, 5]\n",
      "List of Strings: ['1', '2', '3', '4', '5']\n"
     ]
    }
   ],
   "source": [
    "integer_list = [1, 2, 3, 4, 5]\n",
    "\n",
    "string_list = [str(num) for num in integer_list]\n",
    "\n",
    "print(\"Original List of Integers:\", integer_list)\n",
    "print(\"List of Strings:\", string_list)"
   ]
  },
  {
   "cell_type": "markdown",
   "id": "646c6c04",
   "metadata": {},
   "source": [
    "5. Temperature Converter: Write a Python program that converts a temperature in Celsius to Fahrenheit. Take the Celsius temperature as input from the user."
   ]
  },
  {
   "cell_type": "code",
   "execution_count": 5,
   "id": "b91ddc4e",
   "metadata": {},
   "outputs": [
    {
     "name": "stdout",
     "output_type": "stream",
     "text": [
      "Enter temperature in Celsius: 30\n",
      "30.0 degrees Celsius is equal to 86.0 degrees Fahrenheit.\n"
     ]
    }
   ],
   "source": [
    "celsius = float(input(\"Enter temperature in Celsius: \"))\n",
    "\n",
    "\n",
    "fahrenheit = (celsius * 9/5) + 32\n",
    "\n",
    "\n",
    "print(f\"{celsius} degrees Celsius is equal to {fahrenheit} degrees Fahrenheit.\")"
   ]
  },
  {
   "cell_type": "markdown",
   "id": "7e27790e",
   "metadata": {},
   "source": [
    "6. Data Type Checker: Write a Python function that takes a variable as input and returns the data type of the variable as a string (e.g., “int”, “float”, “str”, “list”, etc.)."
   ]
  },
  {
   "cell_type": "code",
   "execution_count": 6,
   "id": "1677f8ea",
   "metadata": {},
   "outputs": [
    {
     "name": "stdout",
     "output_type": "stream",
     "text": [
      "Variable 1 is of type: int\n",
      "Variable 2 is of type: float\n",
      "Variable 3 is of type: str\n",
      "Variable 4 is of type: list\n"
     ]
    }
   ],
   "source": [
    "def get_data_type(variable):\n",
    "    data_type = str(type(variable)).split(\"'\")[1]\n",
    "    return data_type\n",
    "\n",
    "variable1 = 42\n",
    "variable2 = 3.14\n",
    "variable3 = \"Hello, World!\"\n",
    "variable4 = [1, 2, 3]\n",
    "\n",
    "print(f\"Variable 1 is of type: {get_data_type(variable1)}\")\n",
    "print(f\"Variable 2 is of type: {get_data_type(variable2)}\")\n",
    "print(f\"Variable 3 is of type: {get_data_type(variable3)}\")\n",
    "print(f\"Variable 4 is of type: {get_data_type(variable4)}\")\n"
   ]
  },
  {
   "cell_type": "markdown",
   "id": "8cf3be33",
   "metadata": {},
   "source": [
    "7. String Palindrome: Write a Python function to check if a given string is a palindrome or not."
   ]
  },
  {
   "cell_type": "code",
   "execution_count": 7,
   "id": "f4e0d90b",
   "metadata": {},
   "outputs": [
    {
     "name": "stdout",
     "output_type": "stream",
     "text": [
      "'racecar' is a palindrome: True\n",
      "'Hello, World!' is a palindrome: False\n",
      "'A man a plan a canal Panama' is a palindrome: True\n"
     ]
    }
   ],
   "source": [
    "def is_palindrome(input_string):\n",
    "\n",
    "    cleaned_string = input_string.replace(\" \", \"\").lower()\n",
    "    \n",
    "\n",
    "    return cleaned_string == cleaned_string[::-1]\n",
    "\n",
    "\n",
    "string1 = \"racecar\"\n",
    "string2 = \"Hello, World!\"\n",
    "string3 = \"A man a plan a canal Panama\"\n",
    "\n",
    "print(f\"'{string1}' is a palindrome: {is_palindrome(string1)}\")\n",
    "print(f\"'{string2}' is a palindrome: {is_palindrome(string2)}\")\n",
    "print(f\"'{string3}' is a palindrome: {is_palindrome(string3)}\")\n"
   ]
  },
  {
   "cell_type": "markdown",
   "id": "151ea88a",
   "metadata": {},
   "source": [
    "8. String Reversal with Slicing: Write a Python function to reverse a given string using slicing."
   ]
  },
  {
   "cell_type": "code",
   "execution_count": 8,
   "id": "8bf5d6d4",
   "metadata": {},
   "outputs": [
    {
     "name": "stdout",
     "output_type": "stream",
     "text": [
      "Original string: Hello, World!\n",
      "Reversed string: !dlroW ,olleH\n"
     ]
    }
   ],
   "source": [
    "def reverse_string(input_string):\n",
    "    return input_string[::-1]\n",
    "\n",
    "original_string = \"Hello, World!\"\n",
    "reversed_string = reverse_string(original_string)\n",
    "\n",
    "print(f\"Original string: {original_string}\")\n",
    "print(f\"Reversed string: {reversed_string}\")\n"
   ]
  },
  {
   "cell_type": "markdown",
   "id": "3a0d6100",
   "metadata": {},
   "source": [
    "9. String Concatenation: Write a Python program that takes two strings as input and concatenates them into a single string without using the `+` operator."
   ]
  },
  {
   "cell_type": "code",
   "execution_count": 9,
   "id": "b35d8b5b",
   "metadata": {},
   "outputs": [
    {
     "name": "stdout",
     "output_type": "stream",
     "text": [
      "Enter the first string: Md Shahadat\n",
      "Enter the second string:  kabir\n",
      "Concatenated string: Md Shahadat kabir\n"
     ]
    }
   ],
   "source": [
    "def concatenate_strings(string1, string2):\n",
    "    concatenated_string = \"\".join([string1, string2])\n",
    "    return concatenated_string\n",
    "\n",
    "string1 = input(\"Enter the first string: \")\n",
    "string2 = input(\"Enter the second string: \")\n",
    "\n",
    "result = concatenate_strings(string1, string2)\n",
    "print(\"Concatenated string:\", result)\n"
   ]
  },
  {
   "cell_type": "markdown",
   "id": "f2badd2a",
   "metadata": {},
   "source": [
    "10. Typecasting Challenge: Given three variables: `a = ‘100’`, `b = 25`, and `c = ‘10.5’`, write a Python program to perform the following operations and print the results:\n",
    "– Convert `a` to an integer and add it to `b`.\n",
    "– Convert `c` to a float and subtract it from the result of the first operation.\n",
    "– Convert the final result to a string and concatenate it with the string ” is the answer.”"
   ]
  },
  {
   "cell_type": "code",
   "execution_count": 10,
   "id": "9beceb28",
   "metadata": {},
   "outputs": [
    {
     "name": "stdout",
     "output_type": "stream",
     "text": [
      "Result of converting 'a' to int and adding to 'b': 125\n",
      "Result of converting 'c' to float and subtracting from the first result: 114.5\n",
      "Final result as a string: 114.5 is the answer.\n"
     ]
    }
   ],
   "source": [
    "a = '100'\n",
    "b = 25\n",
    "c = '10.5'\n",
    "\n",
    "result1 = int(a) + b\n",
    "\n",
    "\n",
    "result2 = result1 - float(c)\n",
    "\n",
    "\n",
    "final_result = str(result2) + \" is the answer.\"\n",
    "\n",
    "\n",
    "print(\"Result of converting 'a' to int and adding to 'b':\", result1)\n",
    "print(\"Result of converting 'c' to float and subtracting from the first result:\", result2)\n",
    "print(\"Final result as a string:\", final_result)\n"
   ]
  },
  {
   "cell_type": "markdown",
   "id": "da24770d",
   "metadata": {},
   "source": [
    "# Python Conditional Statements:"
   ]
  },
  {
   "cell_type": "markdown",
   "id": "035677dd",
   "metadata": {},
   "source": [
    "11. Positive, Negative, or Zero: Write a Python program that takes a number as input and prints whether it is positive, negative, or zero."
   ]
  },
  {
   "cell_type": "code",
   "execution_count": 11,
   "id": "677eb90d",
   "metadata": {},
   "outputs": [
    {
     "name": "stdout",
     "output_type": "stream",
     "text": [
      "Enter a number: -5\n",
      "The number is negative.\n"
     ]
    }
   ],
   "source": [
    "number = float(input(\"Enter a number: \"))\n",
    "\n",
    "if number > 0:\n",
    "    print(\"The number is positive.\")\n",
    "elif number < 0:\n",
    "    print(\"The number is negative.\")\n",
    "else:\n",
    "    print(\"The number is zero.\")\n"
   ]
  },
  {
   "cell_type": "markdown",
   "id": "4aac328c",
   "metadata": {},
   "source": [
    "12. Largest of Three Numbers: Write a Python program that takes three numbers as input and prints the largest among them."
   ]
  },
  {
   "cell_type": "code",
   "execution_count": 12,
   "id": "8e616cd9",
   "metadata": {},
   "outputs": [
    {
     "name": "stdout",
     "output_type": "stream",
     "text": [
      "Enter the first number: 5\n",
      "Enter the second number: 2\n",
      "Enter the third number: 3\n",
      "The largest number among 5.0, 2.0, and 3.0 is 5.0.\n"
     ]
    }
   ],
   "source": [
    "num1 = float(input(\"Enter the first number: \"))\n",
    "num2 = float(input(\"Enter the second number: \"))\n",
    "num3 = float(input(\"Enter the third number: \"))\n",
    "\n",
    "\n",
    "if num1 >= num2 and num1 >= num3:\n",
    "    largest = num1\n",
    "elif num2 >= num1 and num2 >= num3:\n",
    "    largest = num2\n",
    "else:\n",
    "    largest = num3\n",
    "\n",
    "print(f\"The largest number among {num1}, {num2}, and {num3} is {largest}.\")\n"
   ]
  },
  {
   "cell_type": "markdown",
   "id": "0d97e744",
   "metadata": {},
   "source": [
    "13. Leap Year Checker: Write a Python program that takes a year as input and determines if it is a leap year or not."
   ]
  },
  {
   "cell_type": "code",
   "execution_count": 13,
   "id": "26f4b768",
   "metadata": {},
   "outputs": [
    {
     "name": "stdout",
     "output_type": "stream",
     "text": [
      "Enter a year: 2023\n",
      "2023 is not a leap year.\n"
     ]
    }
   ],
   "source": [
    "\n",
    "year = int(input(\"Enter a year: \"))\n",
    "\n",
    "\n",
    "if (year % 4 == 0 and year % 100 != 0) or (year % 400 == 0):\n",
    "    print(f\"{year} is a leap year.\")\n",
    "else:\n",
    "    print(f\"{year} is not a leap year.\")\n"
   ]
  },
  {
   "cell_type": "markdown",
   "id": "c3fcf182",
   "metadata": {},
   "source": [
    "14. Grades Classification: Write a Python program that takes a student’s percentage as input and prints their corresponding grade according to the following criteria:\n",
    "– 90% or above: A+\n",
    "– 80-89%: A\n",
    "– 70-79%: B\n",
    "– 60-69%: C\n",
    "– Below 60%: Fail"
   ]
  },
  {
   "cell_type": "code",
   "execution_count": 14,
   "id": "ac6a9db2",
   "metadata": {},
   "outputs": [
    {
     "name": "stdout",
     "output_type": "stream",
     "text": [
      "Enter the student's percentage: 80\n",
      "The student's grade is: A\n"
     ]
    }
   ],
   "source": [
    "\n",
    "percentage = float(input(\"Enter the student's percentage: \"))\n",
    "\n",
    "\n",
    "if percentage >= 90:\n",
    "    grade = \"A+\"\n",
    "elif percentage >= 80:\n",
    "    grade = \"A\"\n",
    "elif percentage >= 70:\n",
    "    grade = \"B\"\n",
    "elif percentage >= 60:\n",
    "    grade = \"C\"\n",
    "else:\n",
    "    grade = \"Fail\"\n",
    "\n",
    "\n",
    "print(f\"The student's grade is: {grade}\")\n"
   ]
  },
  {
   "cell_type": "markdown",
   "id": "4bf93fea",
   "metadata": {},
   "source": [
    "15. Vowel or Consonant: Write a Python program that takes a single character as input and determines whether it is a vowel or a consonant."
   ]
  },
  {
   "cell_type": "code",
   "execution_count": 15,
   "id": "b0bd2171",
   "metadata": {},
   "outputs": [
    {
     "name": "stdout",
     "output_type": "stream",
     "text": [
      "Enter a single character: I\n",
      "The character 'i' is a vowel.\n"
     ]
    }
   ],
   "source": [
    "\n",
    "char = input(\"Enter a single character: \")\n",
    "\n",
    "if len(char) == 1 and char.isalpha():\n",
    "    char = char.lower()  # Convert the character to lowercase for case-insensitive comparison\n",
    "    if char in 'aeiou':\n",
    "        result = \"vowel\"\n",
    "    else:\n",
    "        result = \"consonant\"\n",
    "    print(f\"The character '{char}' is a {result}.\")\n",
    "else:\n",
    "    print(\"Please enter a valid single character.\")\n"
   ]
  },
  {
   "cell_type": "markdown",
   "id": "de801252",
   "metadata": {},
   "source": [
    "16. Time Classification: Write a Python program that takes the time in hours (24-hour format) as input and prints “Good Morning”, “Good Afternoon”, “Good Evening”, or “Good Night” based on the time."
   ]
  },
  {
   "cell_type": "code",
   "execution_count": 16,
   "id": "0350863f",
   "metadata": {},
   "outputs": [
    {
     "name": "stdout",
     "output_type": "stream",
     "text": [
      "Enter the time in hours (24-hour format): 24\n",
      "Please enter a valid time in the 24-hour format (0-23).\n"
     ]
    }
   ],
   "source": [
    "\n",
    "try:\n",
    "    hours = int(input(\"Enter the time in hours (24-hour format): \"))\n",
    "\n",
    "    if 0 <= hours < 24:\n",
    "        if 4 <= hours < 12:\n",
    "            greeting = \"Good Morning\"\n",
    "        elif 12 <= hours < 17:\n",
    "            greeting = \"Good Afternoon\"\n",
    "        elif 17 <= hours < 20:\n",
    "            greeting = \"Good Evening\"\n",
    "        else:\n",
    "            greeting = \"Good Night\"\n",
    "        \n",
    "        print(f\"{greeting}, it's {hours:02d}:00.\")\n",
    "    else:\n",
    "        print(\"Please enter a valid time in the 24-hour format (0-23).\")\n",
    "except ValueError:\n",
    "    print(\"Invalid input. Please enter a valid integer for the time in hours.\")\n"
   ]
  },
  {
   "cell_type": "markdown",
   "id": "ab95ba7b",
   "metadata": {},
   "source": [
    "17. Triangle Type Checker: Write a Python program that takes three sides of a triangle as input and determines whether it forms an equilateral, isosceles, or scalene triangle."
   ]
  },
  {
   "cell_type": "code",
   "execution_count": 17,
   "id": "e07fb228",
   "metadata": {},
   "outputs": [
    {
     "name": "stdout",
     "output_type": "stream",
     "text": [
      "Enter the length of the first side: 5\n",
      "Enter the length of the second side: 4\n",
      "Enter the length of the third side: 3\n",
      "It is a scalene triangle.\n"
     ]
    }
   ],
   "source": [
    "\n",
    "side1 = float(input(\"Enter the length of the first side: \"))\n",
    "side2 = float(input(\"Enter the length of the second side: \"))\n",
    "side3 = float(input(\"Enter the length of the third side: \"))\n",
    "\n",
    "\n",
    "if side1 + side2 > side3 and side1 + side3 > side2 and side2 + side3 > side1:\n",
    "    # Check the type of triangle\n",
    "    if side1 == side2 == side3:\n",
    "        triangle_type = \"equilateral\"\n",
    "    elif side1 == side2 or side1 == side3 or side2 == side3:\n",
    "        triangle_type = \"isosceles\"\n",
    "    else:\n",
    "        triangle_type = \"scalene\"\n",
    "    \n",
    "    print(f\"It is a {triangle_type} triangle.\")\n",
    "else:\n",
    "    print(\"It is not a valid triangle.\")\n"
   ]
  },
  {
   "cell_type": "markdown",
   "id": "645f50e4",
   "metadata": {},
   "source": [
    "18. Quadratic Equation Solver: Write a Python program that takes the coefficients (a, b, c) of a quadratic equation as input and calculates and prints the real roots (if they exist) or a message indicating the complex roots."
   ]
  },
  {
   "cell_type": "code",
   "execution_count": 18,
   "id": "5486f9e0",
   "metadata": {},
   "outputs": [
    {
     "name": "stdout",
     "output_type": "stream",
     "text": [
      "Enter the coefficient a: 2\n",
      "Enter the coefficient b: 3\n",
      "Enter the coefficient c: 4\n",
      "The roots are complex: (-0.75+1.1989578808281798j) and (-0.75-1.1989578808281798j)\n"
     ]
    }
   ],
   "source": [
    "import cmath  # Import the complex math module for handling complex numbers\n",
    "\n",
    "\n",
    "a = float(input(\"Enter the coefficient a: \"))\n",
    "b = float(input(\"Enter the coefficient b: \"))\n",
    "c = float(input(\"Enter the coefficient c: \"))\n",
    "\n",
    "discriminant = b**2 - 4*a*c\n",
    "\n",
    "if discriminant > 0:\n",
    "  \n",
    "    root1 = (-b + (discriminant**0.5)) / (2*a)\n",
    "    root2 = (-b - (discriminant**0.5)) / (2*a)\n",
    "    print(f\"The roots are real and distinct: {root1} and {root2}\")\n",
    "elif discriminant == 0:\n",
    "  \n",
    "    root = -b / (2*a)\n",
    "    print(f\"The root is a real and repeated root: {root}\")\n",
    "else:\n",
    "   \n",
    "    real_part = -b / (2*a)\n",
    "    imaginary_part = cmath.sqrt(-discriminant) / (2*a)\n",
    "    root1 = complex(real_part, imaginary_part)\n",
    "    root2 = complex(real_part, -imaginary_part)\n",
    "    print(f\"The roots are complex: {root1} and {root2}\")\n"
   ]
  },
  {
   "cell_type": "markdown",
   "id": "f854d913",
   "metadata": {},
   "source": [
    "19. Number Ranges: Write a Python program that takes an integer as input and prints whether the number falls within the ranges: 0-50, 51-100, 101-150, or above 150."
   ]
  },
  {
   "cell_type": "code",
   "execution_count": 19,
   "id": "79a0031d",
   "metadata": {},
   "outputs": [
    {
     "name": "stdout",
     "output_type": "stream",
     "text": [
      "Enter an integer: 50\n",
      "50 falls within the range 0-50.\n"
     ]
    }
   ],
   "source": [
    "\n",
    "number = int(input(\"Enter an integer: \"))\n",
    "\n",
    "\n",
    "if 0 <= number <= 50:\n",
    "    print(f\"{number} falls within the range 0-50.\")\n",
    "elif 51 <= number <= 100:\n",
    "    print(f\"{number} falls within the range 51-100.\")\n",
    "elif 101 <= number <= 150:\n",
    "    print(f\"{number} falls within the range 101-150.\")\n",
    "else:\n",
    "    print(f\"{number} is above 150.\")\n"
   ]
  },
  {
   "cell_type": "markdown",
   "id": "0c094d7b",
   "metadata": {},
   "source": [
    "# For & While Loops:"
   ]
  },
  {
   "cell_type": "markdown",
   "id": "17bd7a28",
   "metadata": {},
   "source": [
    "20. Sum of N Numbers: Write a Python program using a for loop to calculate the sum of the first N natural numbers, where N is taken as input from the user."
   ]
  },
  {
   "cell_type": "code",
   "execution_count": 20,
   "id": "a4b101ed",
   "metadata": {},
   "outputs": [
    {
     "name": "stdout",
     "output_type": "stream",
     "text": [
      "Enter a positive integer N: 5\n",
      "The sum of the first 5 natural numbers is 15\n"
     ]
    }
   ],
   "source": [
    "\n",
    "N = int(input(\"Enter a positive integer N: \"))\n",
    "\n",
    "\n",
    "sum_of_numbers = 0\n",
    "\n",
    "for i in range(1, N + 1):\n",
    "    sum_of_numbers += i\n",
    "\n",
    "print(f\"The sum of the first {N} natural numbers is {sum_of_numbers}\")\n"
   ]
  },
  {
   "cell_type": "markdown",
   "id": "09712334",
   "metadata": {},
   "source": [
    "21. Factorial Calculator: Write a Python program using a while loop to calculate the factorial of a given number N."
   ]
  },
  {
   "cell_type": "code",
   "execution_count": 21,
   "id": "26bc5aa4",
   "metadata": {},
   "outputs": [
    {
     "name": "stdout",
     "output_type": "stream",
     "text": [
      "Enter a non-negative integer N: 5\n",
      "The factorial is: 120\n"
     ]
    }
   ],
   "source": [
    "N = int(input(\"Enter a non-negative integer N: \"))\n",
    "\n",
    "factorial = 1\n",
    "\n",
    "if N < 0:\n",
    "    print(\"Factorial is not defined for negative numbers.\")\n",
    "elif N == 0:\n",
    "    print(\"The factorial of 0 is 1\")\n",
    "else:\n",
    "    while N > 0:\n",
    "        factorial *= N\n",
    "        N -= 1\n",
    "\n",
    "    print(f\"The factorial is: {factorial}\")\n"
   ]
  },
  {
   "cell_type": "markdown",
   "id": "1de2ddad",
   "metadata": {},
   "source": [
    "22. Table of a Number: Write a Python program using a for loop to print the multiplication table of a given number N."
   ]
  },
  {
   "cell_type": "code",
   "execution_count": 22,
   "id": "31938860",
   "metadata": {},
   "outputs": [
    {
     "name": "stdout",
     "output_type": "stream",
     "text": [
      "Enter a number to generate its multiplication table: 5\n",
      "Multiplication table for 5:\n",
      "5 x 1 = 5\n",
      "5 x 2 = 10\n",
      "5 x 3 = 15\n",
      "5 x 4 = 20\n",
      "5 x 5 = 25\n",
      "5 x 6 = 30\n",
      "5 x 7 = 35\n",
      "5 x 8 = 40\n",
      "5 x 9 = 45\n",
      "5 x 10 = 50\n"
     ]
    }
   ],
   "source": [
    "N = int(input(\"Enter a number to generate its multiplication table: \"))\n",
    "\n",
    "num_terms = 10\n",
    "\n",
    "print(f\"Multiplication table for {N}:\")\n",
    "\n",
    "for i in range(1, num_terms + 1):\n",
    "    product = N * i\n",
    "    print(f\"{N} x {i} = {product}\")\n"
   ]
  },
  {
   "cell_type": "markdown",
   "id": "c93182ea",
   "metadata": {},
   "source": [
    "23. Count Digits in a Number: Write a Python program using a while loop to count the number of digits in a given integer N."
   ]
  },
  {
   "cell_type": "code",
   "execution_count": 23,
   "id": "08c6145a",
   "metadata": {},
   "outputs": [
    {
     "name": "stdout",
     "output_type": "stream",
     "text": [
      "Enter an integer: 5\n",
      "Number of digits: 1\n"
     ]
    }
   ],
   "source": [
    "\n",
    "N = int(input(\"Enter an integer: \"))\n",
    "\n",
    "\n",
    "count = 0\n",
    "\n",
    "\n",
    "if N == 0:\n",
    "    count = 1\n",
    "\n",
    "\n",
    "while N != 0:\n",
    "   \n",
    "    count += 1\n",
    "\n",
    "    N //= 10\n",
    "\n",
    "\n",
    "print(\"Number of digits:\", count)\n"
   ]
  },
  {
   "cell_type": "markdown",
   "id": "ba197c4b",
   "metadata": {},
   "source": [
    "24. Fibonacci Sequence: Write a Python program using a for loop to generate the Fibonacci sequence up to a given limit N."
   ]
  },
  {
   "cell_type": "code",
   "execution_count": 24,
   "id": "5c138e9c",
   "metadata": {},
   "outputs": [
    {
     "name": "stdout",
     "output_type": "stream",
     "text": [
      "Enter the limit for the Fibonacci sequence: 5\n",
      "Fibonacci sequence up to 5 is: [0, 1, 1, 2, 3]\n"
     ]
    }
   ],
   "source": [
    "\n",
    "N = int(input(\"Enter the limit for the Fibonacci sequence: \"))\n",
    "\n",
    "\n",
    "fibonacci_sequence = [0, 1]\n",
    "\n",
    "\n",
    "for i in range(2, N):\n",
    "    \n",
    "    next_fibonacci = fibonacci_sequence[-1] + fibonacci_sequence[-2]\n",
    "    \n",
    "   \n",
    "    if next_fibonacci > N:\n",
    "        break\n",
    "   \n",
    "    fibonacci_sequence.append(next_fibonacci)\n",
    "\n",
    "\n",
    "print(\"Fibonacci sequence up to\", N, \"is:\", fibonacci_sequence)\n"
   ]
  },
  {
   "cell_type": "markdown",
   "id": "4ff2d4c4",
   "metadata": {},
   "source": [
    "25. Sum of Even Numbers: Write a Python program using a while loop to calculate the sum of all even numbers between 1 and N, where N is taken as input from the user."
   ]
  },
  {
   "cell_type": "code",
   "execution_count": 25,
   "id": "b570c90c",
   "metadata": {},
   "outputs": [
    {
     "name": "stdout",
     "output_type": "stream",
     "text": [
      "Enter a positive integer N: 5\n",
      "Sum of even numbers between 1 and 5 is: 6\n"
     ]
    }
   ],
   "source": [
    "\n",
    "N = int(input(\"Enter a positive integer N: \"))\n",
    "\n",
    "\n",
    "even_sum = 0\n",
    "current_number = 2 \n",
    "\n",
    "\n",
    "while current_number <= N:\n",
    "    even_sum += current_number\n",
    "    current_number += 2 \n",
    "\n",
    "print(\"Sum of even numbers between 1 and\", N, \"is:\", even_sum)\n"
   ]
  },
  {
   "cell_type": "markdown",
   "id": "a116454b",
   "metadata": {},
   "source": [
    "26. Print Patterns: Write a Python program using nested for loops to print various patterns, such as a right-angled triangle, an inverted right-angled triangle, and so on."
   ]
  },
  {
   "cell_type": "markdown",
   "id": "fc7d0f22",
   "metadata": {},
   "source": [
    "26. Print Patterns: Write a Python program using nested for loops to print various patterns, such as a right-angled triangle, an inverted right-angled triangle, and so on."
   ]
  },
  {
   "cell_type": "code",
   "execution_count": 26,
   "id": "dba9f777",
   "metadata": {},
   "outputs": [
    {
     "name": "stdout",
     "output_type": "stream",
     "text": [
      "Enter the number of rows: 5\n",
      "\n",
      "Right-Angled Triangle:\n",
      "* \n",
      "* * \n",
      "* * * \n",
      "* * * * \n",
      "* * * * * \n",
      "\n",
      "Inverted Right-Angled Triangle:\n",
      "* * * * * \n",
      "* * * * \n",
      "* * * \n",
      "* * \n",
      "* \n",
      "\n",
      "Square:\n",
      "* * * * * \n",
      "* * * * * \n",
      "* * * * * \n",
      "* * * * * \n",
      "* * * * * \n",
      "\n",
      "Hollow Square:\n",
      "* * * * * \n",
      "*       * \n",
      "*       * \n",
      "*       * \n",
      "* * * * * \n"
     ]
    }
   ],
   "source": [
    "\n",
    "def print_right_angled_triangle(rows):\n",
    "    for i in range(1, rows + 1):\n",
    "        for j in range(1, i + 1):\n",
    "            print(\"*\", end=\" \")\n",
    "        print()\n",
    "\n",
    "def print_inverted_right_angled_triangle(rows):\n",
    "    for i in range(rows, 0, -1):\n",
    "        for j in range(1, i + 1):\n",
    "            print(\"*\", end=\" \")\n",
    "        print()\n",
    "\n",
    "\n",
    "def print_square(rows):\n",
    "    for i in range(1, rows + 1):\n",
    "        for j in range(1, rows + 1):\n",
    "            print(\"*\", end=\" \")\n",
    "        print()\n",
    "\n",
    "def print_hollow_square(rows):\n",
    "    for i in range(1, rows + 1):\n",
    "        for j in range(1, rows + 1):\n",
    "            if i == 1 or i == rows or j == 1 or j == rows:\n",
    "                print(\"*\", end=\" \")\n",
    "            else:\n",
    "                print(\" \", end=\" \")\n",
    "        print()\n",
    "\n",
    "\n",
    "rows = int(input(\"Enter the number of rows: \"))\n",
    "\n",
    "\n",
    "print(\"\\nRight-Angled Triangle:\")\n",
    "print_right_angled_triangle(rows)\n",
    "\n",
    "print(\"\\nInverted Right-Angled Triangle:\")\n",
    "print_inverted_right_angled_triangle(rows)\n",
    "\n",
    "print(\"\\nSquare:\")\n",
    "print_square(rows)\n",
    "\n",
    "print(\"\\nHollow Square:\")\n",
    "print_hollow_square(rows)\n"
   ]
  },
  {
   "cell_type": "markdown",
   "id": "432d3e33",
   "metadata": {},
   "source": [
    "27. Prime Number Checker: Write a Python program using a while loop to check if a given number N is prime or not."
   ]
  },
  {
   "cell_type": "code",
   "execution_count": 27,
   "id": "71d9c672",
   "metadata": {},
   "outputs": [
    {
     "name": "stdout",
     "output_type": "stream",
     "text": [
      "Enter a positive integer N: 5\n",
      "5 is a prime number.\n"
     ]
    }
   ],
   "source": [
    "\n",
    "N = int(input(\"Enter a positive integer N: \"))\n",
    "\n",
    "\n",
    "if N < 2:\n",
    "    is_prime = False\n",
    "else:\n",
    "   \n",
    "    is_prime = True\n",
    "    # Start with divisor 2\n",
    "    divisor = 2\n",
    "    \n",
    "\n",
    "    while divisor * divisor <= N:\n",
    "        if N % divisor == 0:\n",
    "          \n",
    "            is_prime = False\n",
    "            break\n",
    "        divisor += 1\n",
    "\n",
    "# Print the result\n",
    "if is_prime:\n",
    "    print(N, \"is a prime number.\")\n",
    "else:\n",
    "    print(N, \"is not a prime number.\")\n"
   ]
  },
  {
   "cell_type": "markdown",
   "id": "3e36e45c",
   "metadata": {},
   "source": [
    "28. List Manipulation: Given a list of integers, write a Python program using a for loop to find the sum, average, maximum, and minimum values in the list."
   ]
  },
  {
   "cell_type": "code",
   "execution_count": 28,
   "id": "97a5c065",
   "metadata": {},
   "outputs": [
    {
     "name": "stdout",
     "output_type": "stream",
     "text": [
      "Sum: 75\n",
      "Average: 15.0\n",
      "Maximum: 25\n",
      "Minimum: 5\n"
     ]
    }
   ],
   "source": [
    "input_list = [5, 10, 15, 20, 25]\n",
    "\n",
    "total_sum = 0\n",
    "maximum = float('-inf') \n",
    "minimum = float('inf')  \n",
    "\n",
    "for num in input_list:\n",
    "    total_sum += num\n",
    "    if num > maximum:\n",
    "        maximum = num\n",
    "    if num < minimum:\n",
    "        minimum = num\n",
    "\n",
    "\n",
    "average = total_sum / len(input_list)\n",
    "\n",
    "\n",
    "print(\"Sum:\", total_sum)\n",
    "print(\"Average:\", average)\n",
    "print(\"Maximum:\", maximum)\n",
    "print(\"Minimum:\", minimum)\n"
   ]
  },
  {
   "cell_type": "markdown",
   "id": "9dc77e2b",
   "metadata": {},
   "source": [
    "29. Reverse String: Write a Python program using a while loop to reverse a given string."
   ]
  },
  {
   "cell_type": "code",
   "execution_count": 29,
   "id": "9300ac51",
   "metadata": {},
   "outputs": [
    {
     "name": "stdout",
     "output_type": "stream",
     "text": [
      "Original string: Hello, World!\n",
      "Reversed string: !dlroW ,olleH\n"
     ]
    }
   ],
   "source": [
    "input_string = \"Hello, World!\"\n",
    "\n",
    "reversed_string = \"\"\n",
    "\n",
    "index = len(input_string) - 1\n",
    "\n",
    "while index >= 0:\n",
    "    reversed_string += input_string[index]\n",
    "    index -= 1\n",
    "\n",
    "print(\"Original string:\", input_string)\n",
    "print(\"Reversed string:\", reversed_string)\n"
   ]
  },
  {
   "cell_type": "markdown",
   "id": "b5ac1895",
   "metadata": {},
   "source": [
    "# Nested Loops:"
   ]
  },
  {
   "cell_type": "markdown",
   "id": "e891ff81",
   "metadata": {},
   "source": [
    "30. Multiplication Table: Write a Python program using nested loops to print the multiplication table from 1 to 10."
   ]
  },
  {
   "cell_type": "code",
   "execution_count": 30,
   "id": "b8503008",
   "metadata": {},
   "outputs": [
    {
     "name": "stdout",
     "output_type": "stream",
     "text": [
      "1 x 1 = 1\n",
      "1 x 2 = 2\n",
      "1 x 3 = 3\n",
      "1 x 4 = 4\n",
      "1 x 5 = 5\n",
      "1 x 6 = 6\n",
      "1 x 7 = 7\n",
      "1 x 8 = 8\n",
      "1 x 9 = 9\n",
      "1 x 10 = 10\n",
      "\n",
      "2 x 1 = 2\n",
      "2 x 2 = 4\n",
      "2 x 3 = 6\n",
      "2 x 4 = 8\n",
      "2 x 5 = 10\n",
      "2 x 6 = 12\n",
      "2 x 7 = 14\n",
      "2 x 8 = 16\n",
      "2 x 9 = 18\n",
      "2 x 10 = 20\n",
      "\n",
      "3 x 1 = 3\n",
      "3 x 2 = 6\n",
      "3 x 3 = 9\n",
      "3 x 4 = 12\n",
      "3 x 5 = 15\n",
      "3 x 6 = 18\n",
      "3 x 7 = 21\n",
      "3 x 8 = 24\n",
      "3 x 9 = 27\n",
      "3 x 10 = 30\n",
      "\n",
      "4 x 1 = 4\n",
      "4 x 2 = 8\n",
      "4 x 3 = 12\n",
      "4 x 4 = 16\n",
      "4 x 5 = 20\n",
      "4 x 6 = 24\n",
      "4 x 7 = 28\n",
      "4 x 8 = 32\n",
      "4 x 9 = 36\n",
      "4 x 10 = 40\n",
      "\n",
      "5 x 1 = 5\n",
      "5 x 2 = 10\n",
      "5 x 3 = 15\n",
      "5 x 4 = 20\n",
      "5 x 5 = 25\n",
      "5 x 6 = 30\n",
      "5 x 7 = 35\n",
      "5 x 8 = 40\n",
      "5 x 9 = 45\n",
      "5 x 10 = 50\n",
      "\n",
      "6 x 1 = 6\n",
      "6 x 2 = 12\n",
      "6 x 3 = 18\n",
      "6 x 4 = 24\n",
      "6 x 5 = 30\n",
      "6 x 6 = 36\n",
      "6 x 7 = 42\n",
      "6 x 8 = 48\n",
      "6 x 9 = 54\n",
      "6 x 10 = 60\n",
      "\n",
      "7 x 1 = 7\n",
      "7 x 2 = 14\n",
      "7 x 3 = 21\n",
      "7 x 4 = 28\n",
      "7 x 5 = 35\n",
      "7 x 6 = 42\n",
      "7 x 7 = 49\n",
      "7 x 8 = 56\n",
      "7 x 9 = 63\n",
      "7 x 10 = 70\n",
      "\n",
      "8 x 1 = 8\n",
      "8 x 2 = 16\n",
      "8 x 3 = 24\n",
      "8 x 4 = 32\n",
      "8 x 5 = 40\n",
      "8 x 6 = 48\n",
      "8 x 7 = 56\n",
      "8 x 8 = 64\n",
      "8 x 9 = 72\n",
      "8 x 10 = 80\n",
      "\n",
      "9 x 1 = 9\n",
      "9 x 2 = 18\n",
      "9 x 3 = 27\n",
      "9 x 4 = 36\n",
      "9 x 5 = 45\n",
      "9 x 6 = 54\n",
      "9 x 7 = 63\n",
      "9 x 8 = 72\n",
      "9 x 9 = 81\n",
      "9 x 10 = 90\n",
      "\n",
      "10 x 1 = 10\n",
      "10 x 2 = 20\n",
      "10 x 3 = 30\n",
      "10 x 4 = 40\n",
      "10 x 5 = 50\n",
      "10 x 6 = 60\n",
      "10 x 7 = 70\n",
      "10 x 8 = 80\n",
      "10 x 9 = 90\n",
      "10 x 10 = 100\n",
      "\n"
     ]
    }
   ],
   "source": [
    "start = 1\n",
    "end = 10\n",
    "\n",
    "\n",
    "for i in range(start, end + 1):\n",
    "    for j in range(1, 11):\n",
    "       \n",
    "        product = i * j\n",
    "        print(f\"{i} x {j} = {product}\")\n",
    "\n",
    "    print(\"-\" * 0)"
   ]
  },
  {
   "cell_type": "markdown",
   "id": "5ea5f109",
   "metadata": {},
   "source": [
    "31. Print Patterns: Write a Python program using nested loops to print the following pattern:\n",
    "*\n",
    "**\n",
    "***\n",
    "****\n",
    "*****"
   ]
  },
  {
   "cell_type": "code",
   "execution_count": 31,
   "id": "134f868f",
   "metadata": {},
   "outputs": [
    {
     "name": "stdout",
     "output_type": "stream",
     "text": [
      "*\n",
      "**\n",
      "***\n",
      "****\n",
      "*****\n"
     ]
    }
   ],
   "source": [
    "num_rows = 5\n",
    "\n",
    "for i in range(1, num_rows + 1):\n",
    "    for j in range(i):\n",
    "        print(\"*\", end=\"\")\n",
    "    print()\n"
   ]
  },
  {
   "cell_type": "markdown",
   "id": "a9e6fc9a",
   "metadata": {},
   "source": [
    "32. Matrix Multiplication: Write a Python program using nested loops to multiply two matrices."
   ]
  },
  {
   "cell_type": "code",
   "execution_count": 32,
   "id": "e9acef07",
   "metadata": {},
   "outputs": [
    {
     "name": "stdout",
     "output_type": "stream",
     "text": [
      "[30, 24, 18]\n",
      "[84, 69, 54]\n",
      "[138, 114, 90]\n"
     ]
    }
   ],
   "source": [
    "matrix_A = [[1, 2, 3],\n",
    "            [4, 5, 6],\n",
    "            [7, 8, 9]]\n",
    "\n",
    "matrix_B = [[9, 8, 7],\n",
    "            [6, 5, 4],\n",
    "            [3, 2, 1]]\n",
    "\n",
    "rows_A = len(matrix_A)\n",
    "cols_A = len(matrix_A[0])\n",
    "rows_B = len(matrix_B)\n",
    "cols_B = len(matrix_B[0])\n",
    "\n",
    "matrix_C = [[0 for _ in range(cols_B)] for _ in range(rows_A)]\n",
    "\n",
    "if cols_A != rows_B:\n",
    "    print(\"Matrix multiplication is not possible.\")\n",
    "else:\n",
    "    for i in range(rows_A):\n",
    "        for j in range(cols_B):\n",
    "            for k in range(cols_A):\n",
    "                matrix_C[i][j] += matrix_A[i][k] * matrix_B[k][j]\n",
    "\n",
    "    for row in matrix_C:\n",
    "        print(row)\n"
   ]
  },
  {
   "cell_type": "markdown",
   "id": "adb0a31e",
   "metadata": {},
   "source": [
    "33. Chessboard Pattern: Write a Python program using nested loops to print a chessboard pattern (alternating “X” and “O” characters) of size 8×8.34. Number Pyramid: Write a Python program using nested loops to print a number pyramid like the following:\n",
    "\n",
    "1\n",
    "22\n",
    "333\n",
    "4444\n",
    "55555"
   ]
  },
  {
   "cell_type": "code",
   "execution_count": 33,
   "id": "00acb142",
   "metadata": {},
   "outputs": [
    {
     "name": "stdout",
     "output_type": "stream",
     "text": [
      "X O X O X O X O \n",
      "O X O X O X O X \n",
      "X O X O X O X O \n",
      "O X O X O X O X \n",
      "X O X O X O X O \n",
      "O X O X O X O X \n",
      "X O X O X O X O \n",
      "O X O X O X O X \n"
     ]
    }
   ],
   "source": [
    "size = 8\n",
    "\n",
    "for i in range(size):\n",
    "    for j in range(size):\n",
    "        if (i + j) % 2 == 0:\n",
    "            print(\"X\", end=\" \")\n",
    "        else:\n",
    "            print(\"O\", end=\" \")\n",
    "    print()  \n"
   ]
  },
  {
   "cell_type": "code",
   "execution_count": 34,
   "id": "aecb9d4f",
   "metadata": {},
   "outputs": [
    {
     "name": "stdout",
     "output_type": "stream",
     "text": [
      "1\n",
      "22\n",
      "333\n",
      "4444\n",
      "55555\n"
     ]
    }
   ],
   "source": [
    "rows = 5\n",
    "\n",
    "for i in range(1, rows + 1):\n",
    "   \n",
    "    for j in range(i):\n",
    "        print(i, end=\"\")\n",
    "  \n",
    "    print()\n"
   ]
  },
  {
   "cell_type": "markdown",
   "id": "e26f0f6a",
   "metadata": {},
   "source": [
    "# List Problems:"
   ]
  },
  {
   "cell_type": "markdown",
   "id": "90c3bcc9",
   "metadata": {},
   "source": [
    "34. List Sum: Write a Python program to find the sum of all elements in a given list of integers."
   ]
  },
  {
   "cell_type": "code",
   "execution_count": 35,
   "id": "46a4f0d8",
   "metadata": {},
   "outputs": [
    {
     "name": "stdout",
     "output_type": "stream",
     "text": [
      "Sum of all elements: 15\n"
     ]
    }
   ],
   "source": [
    "my_list = [1, 2, 3, 4, 5]\n",
    "\n",
    "list_sum = 0\n",
    "\n",
    "for num in my_list:\n",
    "    list_sum += num\n",
    "\n",
    "print(\"Sum of all elements:\", list_sum)\n"
   ]
  },
  {
   "cell_type": "markdown",
   "id": "d870752b",
   "metadata": {},
   "source": [
    "35. List Average: Write a Python program to calculate the average of all elements in a given list of integers."
   ]
  },
  {
   "cell_type": "code",
   "execution_count": 36,
   "id": "048016ec",
   "metadata": {},
   "outputs": [
    {
     "name": "stdout",
     "output_type": "stream",
     "text": [
      "Average: 3.0\n"
     ]
    }
   ],
   "source": [
    "my_list = [1, 2, 3, 4, 5]\n",
    "\n",
    "list_sum = sum(my_list)\n",
    "\n",
    "average = list_sum / len(my_list)\n",
    "print(\"Average:\", average)\n"
   ]
  },
  {
   "cell_type": "markdown",
   "id": "81e8e705",
   "metadata": {},
   "source": [
    "36. List Max and Min: Write a Python program to find the maximum and minimum values in a given list of integers."
   ]
  },
  {
   "cell_type": "code",
   "execution_count": 37,
   "id": "0b7b34e3",
   "metadata": {},
   "outputs": [
    {
     "name": "stdout",
     "output_type": "stream",
     "text": [
      "Maximum value: 25\n",
      "Minimum value: 3\n"
     ]
    }
   ],
   "source": [
    "my_list = [10, 5, 25, 3, 15]\n",
    "\n",
    "maximum_value = max(my_list)\n",
    "minimum_value = min(my_list)\n",
    "\n",
    "print(\"Maximum value:\", maximum_value)\n",
    "print(\"Minimum value:\", minimum_value)\n"
   ]
  },
  {
   "cell_type": "markdown",
   "id": "84775e26",
   "metadata": {},
   "source": [
    "37. List Sorting: Write a Python program to sort a list of integers in ascending order."
   ]
  },
  {
   "cell_type": "code",
   "execution_count": 38,
   "id": "00fa478c",
   "metadata": {},
   "outputs": [
    {
     "name": "stdout",
     "output_type": "stream",
     "text": [
      "Sorted list in ascending order: [3, 5, 10, 15, 25]\n"
     ]
    }
   ],
   "source": [
    "my_list = [10, 5, 25, 3, 15]\n",
    "\n",
    "\n",
    "my_list.sort()\n",
    "\n",
    "\n",
    "print(\"Sorted list in ascending order:\", my_list)\n"
   ]
  },
  {
   "cell_type": "markdown",
   "id": "9f3b58e4",
   "metadata": {},
   "source": [
    "38. List Filtering: Given a list of integers, write a Python program to create a new list that contains only the even numbers from the original list."
   ]
  },
  {
   "cell_type": "code",
   "execution_count": 39,
   "id": "f3582c75",
   "metadata": {},
   "outputs": [
    {
     "name": "stdout",
     "output_type": "stream",
     "text": [
      "Even numbers from the original list: [2, 4, 6, 8, 10]\n"
     ]
    }
   ],
   "source": [
    "original_list = [1, 2, 3, 4, 5, 6, 7, 8, 9, 10]\n",
    "\n",
    "even_numbers = [num for num in original_list if num % 2 == 0]\n",
    "\n",
    "print(\"Even numbers from the original list:\", even_numbers)\n"
   ]
  },
  {
   "cell_type": "markdown",
   "id": "f1f352ec",
   "metadata": {},
   "source": [
    "39. List Reversal: Write a Python program to reverse a given list without using any built-in functions."
   ]
  },
  {
   "cell_type": "code",
   "execution_count": 40,
   "id": "903a6f44",
   "metadata": {},
   "outputs": [
    {
     "name": "stdout",
     "output_type": "stream",
     "text": [
      "Reversed list: [5, 4, 3, 2, 1]\n"
     ]
    }
   ],
   "source": [
    "my_list = [1, 2, 3, 4, 5]\n",
    "\n",
    "start = 0\n",
    "end = len(my_list) - 1\n",
    "\n",
    "while start < end:\n",
    "    \n",
    "    my_list[start], my_list[end] = my_list[end], my_list[start]\n",
    "    \n",
    "    \n",
    "    start += 1\n",
    "    end -= 1\n",
    "\n",
    "\n",
    "print(\"Reversed list:\", my_list)\n"
   ]
  },
  {
   "cell_type": "markdown",
   "id": "99d837fe",
   "metadata": {},
   "source": [
    "40. List Manipulation: Given two lists of integers, write a Python program to create a new list that contains elements common to both lists."
   ]
  },
  {
   "cell_type": "code",
   "execution_count": 41,
   "id": "b6f14190",
   "metadata": {},
   "outputs": [
    {
     "name": "stdout",
     "output_type": "stream",
     "text": [
      "Common elements: [3, 4, 5]\n"
     ]
    }
   ],
   "source": [
    "list1 = [1, 2, 3, 4, 5]\n",
    "list2 = [3, 4, 5, 6, 7]\n",
    "\n",
    "common_elements = [element for element in list1 if element in list2]\n",
    "\n",
    "print(\"Common elements:\", common_elements)\n"
   ]
  },
  {
   "cell_type": "markdown",
   "id": "22afd84f",
   "metadata": {},
   "source": [
    "41. List Element Count: Write a Python program to count the occurrences of a specific element in a given list."
   ]
  },
  {
   "cell_type": "code",
   "execution_count": 42,
   "id": "0c987613",
   "metadata": {},
   "outputs": [
    {
     "name": "stdout",
     "output_type": "stream",
     "text": [
      "The element 3 appears 1 times in the list.\n"
     ]
    }
   ],
   "source": [
    "def count_element(lst, element):\n",
    "    count = 0\n",
    "    for item in lst:\n",
    "        if item == element:\n",
    "            count += 1\n",
    "    return count\n",
    "\n",
    "my_list = [1, 2, 2, 3, 4, 2, 5]\n",
    "element_to_count = 3\n",
    "result = count_element(my_list, element_to_count)\n",
    "print(f\"The element {element_to_count} appears {result} times in the list.\")\n"
   ]
  },
  {
   "cell_type": "markdown",
   "id": "37a82421",
   "metadata": {},
   "source": [
    "42. List Duplicates Removal: Write a Python program to remove duplicates from a given list while preserving the order of the elements."
   ]
  },
  {
   "cell_type": "code",
   "execution_count": 43,
   "id": "9420e151",
   "metadata": {},
   "outputs": [
    {
     "name": "stdout",
     "output_type": "stream",
     "text": [
      "Original List: [1, 2, 2, 3, 4, 4, 5, 6, 6, 7]\n",
      "List with Duplicates Removed: [1, 2, 3, 4, 5, 6, 7]\n"
     ]
    }
   ],
   "source": [
    "def remove_duplicates(input_list):\n",
    "    unique_list = []\n",
    "    for item in input_list:\n",
    "        if item not in unique_list:\n",
    "            unique_list.append(item)\n",
    "    return unique_list\n",
    "\n",
    "\n",
    "my_list = [1, 2, 2, 3, 4, 4, 5, 6, 6, 7]\n",
    "result = remove_duplicates(my_list)\n",
    "print(\"Original List:\", my_list)\n",
    "print(\"List with Duplicates Removed:\", result)\n"
   ]
  },
  {
   "cell_type": "markdown",
   "id": "23030c82",
   "metadata": {},
   "source": [
    "43. List Comprehension: Given a list of integers, write a Python program to create a new list that contains the squares of the elements using list comprehension."
   ]
  },
  {
   "cell_type": "code",
   "execution_count": 44,
   "id": "0a04048a",
   "metadata": {},
   "outputs": [
    {
     "name": "stdout",
     "output_type": "stream",
     "text": [
      "Original List: [1, 2, 3, 4, 5]\n",
      "List of Squares: [1, 4, 9, 16, 25]\n"
     ]
    }
   ],
   "source": [
    "original_list = [1, 2, 3, 4, 5]\n",
    "\n",
    "squares_list = [x**2 for x in original_list]\n",
    "\n",
    "print(\"Original List:\", original_list)\n",
    "print(\"List of Squares:\", squares_list)\n"
   ]
  },
  {
   "cell_type": "markdown",
   "id": "509a60c6",
   "metadata": {},
   "source": [
    "# Nested List Problems:"
   ]
  },
  {
   "cell_type": "markdown",
   "id": "5871eebb",
   "metadata": {},
   "source": [
    "44. Matrix Addition: Write a Python program to add two matrices represented as nested lists."
   ]
  },
  {
   "cell_type": "code",
   "execution_count": 45,
   "id": "799b603d",
   "metadata": {},
   "outputs": [
    {
     "name": "stdout",
     "output_type": "stream",
     "text": [
      "[10, 10, 10]\n",
      "[10, 10, 10]\n",
      "[10, 10, 10]\n"
     ]
    }
   ],
   "source": [
    "def add_matrices(matrix1, matrix2):\n",
    "\n",
    "    if len(matrix1) != len(matrix2) or len(matrix1[0]) != len(matrix2[0]):\n",
    "        return \"Matrix dimensions are not the same. Cannot perform addition.\"\n",
    "\n",
    "\n",
    "    result = [[0 for _ in range(len(matrix1[0]))] for _ in range(len(matrix1))]\n",
    "\n",
    " \n",
    "    for i in range(len(matrix1)):\n",
    "        for j in range(len(matrix1[0])):\n",
    "            result[i][j] = matrix1[i][j] + matrix2[i][j]\n",
    "\n",
    "    return result\n",
    "\n",
    "matrix1 = [[1, 2, 3], [4, 5, 6], [7, 8, 9]]\n",
    "matrix2 = [[9, 8, 7], [6, 5, 4], [3, 2, 1]]\n",
    "\n",
    "result_matrix = add_matrices(matrix1, matrix2)\n",
    "\n",
    "for row in result_matrix:\n",
    "    print(row)\n"
   ]
  },
  {
   "cell_type": "markdown",
   "id": "4656a0a4",
   "metadata": {},
   "source": [
    "45. Flatten Nested List: Write a Python program to flatten a given nested list and convert it into a single-dimensional list."
   ]
  },
  {
   "cell_type": "code",
   "execution_count": 46,
   "id": "09f98e37",
   "metadata": {},
   "outputs": [
    {
     "name": "stdout",
     "output_type": "stream",
     "text": [
      "Nested List: [1, [2, [3, 4], 5], 6, [7, 8]]\n",
      "Flattened List: [1, 2, 3, 4, 5, 6, 7, 8]\n"
     ]
    }
   ],
   "source": [
    "def flatten_list(nested_list):\n",
    "    flat_list = []\n",
    "    for item in nested_list:\n",
    "        if isinstance(item, list):\n",
    "            flat_list.extend(flatten_list(item))\n",
    "        else:\n",
    "            flat_list.append(item)\n",
    "    return flat_list\n",
    "\n",
    "\n",
    "nested_list = [1, [2, [3, 4], 5], 6, [7, 8]]\n",
    "\n",
    "\n",
    "flat_list = flatten_list(nested_list)\n",
    "\n",
    "\n",
    "print(\"Nested List:\", nested_list)\n",
    "print(\"Flattened List:\", flat_list)\n"
   ]
  },
  {
   "cell_type": "markdown",
   "id": "72c3dba5",
   "metadata": {},
   "source": [
    "46. List Element Frequency: Given a nested list containing lists of integers, write a Python program to count the frequency of each element in the entire nested list."
   ]
  },
  {
   "cell_type": "code",
   "execution_count": 47,
   "id": "4cad9f4d",
   "metadata": {},
   "outputs": [
    {
     "name": "stdout",
     "output_type": "stream",
     "text": [
      "Element 1 appears 1 times\n",
      "Element 2 appears 2 times\n",
      "Element 3 appears 1 times\n",
      "Element 4 appears 3 times\n",
      "Element 5 appears 1 times\n",
      "Element 6 appears 1 times\n"
     ]
    }
   ],
   "source": [
    "def flatten_list(nested_list):\n",
    "    flat_list = []\n",
    "    for item in nested_list:\n",
    "        if isinstance(item, list):\n",
    "            flat_list.extend(flatten_list(item))\n",
    "        else:\n",
    "            flat_list.append(item)\n",
    "    return flat_list\n",
    "\n",
    "def count_element_frequency(nested_list):\n",
    "    flat_list = flatten_list(nested_list)\n",
    "    element_frequency = {}\n",
    "    \n",
    "    for item in flat_list:\n",
    "        if item in element_frequency:\n",
    "            element_frequency[item] += 1\n",
    "        else:\n",
    "            element_frequency[item] = 1\n",
    "    \n",
    "    return element_frequency\n",
    "\n",
    "\n",
    "nested_list = [[1, 2, 2], [3, 4, 4, 4], [5, 6]]\n",
    "\n",
    "frequency_dict = count_element_frequency(nested_list)\n",
    "\n",
    "for element, frequency in frequency_dict.items():\n",
    "    print(f\"Element {element} appears {frequency} times\")\n"
   ]
  },
  {
   "cell_type": "markdown",
   "id": "ad13a745",
   "metadata": {},
   "source": [
    "47. Transpose Matrix: Write a Python program to transpose a given matrix represented as a nested list."
   ]
  },
  {
   "cell_type": "code",
   "execution_count": 48,
   "id": "924ee19f",
   "metadata": {},
   "outputs": [
    {
     "name": "stdout",
     "output_type": "stream",
     "text": [
      "Original Matrix:\n",
      "[1, 2, 3]\n",
      "[4, 5, 6]\n",
      "\n",
      "Transposed Matrix:\n",
      "[1, 4]\n",
      "[2, 5]\n",
      "[3, 6]\n"
     ]
    }
   ],
   "source": [
    "def transpose_matrix(matrix):\n",
    "\n",
    "    rows = len(matrix)\n",
    "    columns = len(matrix[0])\n",
    "\n",
    "    transposed_matrix = [[0 for _ in range(rows)] for _ in range(columns)]\n",
    "\n",
    "    for i in range(rows):\n",
    "        for j in range(columns):\n",
    "            transposed_matrix[j][i] = matrix[i][j]\n",
    "\n",
    "    return transposed_matrix\n",
    "\n",
    "matrix = [[1, 2, 3], [4, 5, 6]]\n",
    "\n",
    "transposed = transpose_matrix(matrix)\n",
    "\n",
    "print(\"Original Matrix:\")\n",
    "for row in matrix:\n",
    "    print(row)\n",
    "\n",
    "print(\"\\nTransposed Matrix:\")\n",
    "for row in transposed:\n",
    "    print(row)\n"
   ]
  },
  {
   "cell_type": "markdown",
   "id": "9dcc7833",
   "metadata": {},
   "source": [
    "48. List of Lists Concatenation: Given a list of nested lists, write a Python program to concatenate all the sublists into a single flat list."
   ]
  },
  {
   "cell_type": "code",
   "execution_count": 49,
   "id": "1baaecf0",
   "metadata": {},
   "outputs": [
    {
     "name": "stdout",
     "output_type": "stream",
     "text": [
      "Nested List:\n",
      "[1, 2, 3]\n",
      "[4, 5]\n",
      "[6, 7, 8]\n",
      "\n",
      "Flat List: [1, 2, 3, 4, 5, 6, 7, 8]\n"
     ]
    }
   ],
   "source": [
    "def flatten_nested_list(nested_list):\n",
    "    flat_list = [item for sublist in nested_list for item in sublist]\n",
    "    return flat_list\n",
    "\n",
    "nested_list = [[1, 2, 3], [4, 5], [6, 7, 8]]\n",
    "\n",
    "\n",
    "flat_list = flatten_nested_list(nested_list)\n",
    "\n",
    "\n",
    "print(\"Nested List:\")\n",
    "for sublist in nested_list:\n",
    "    print(sublist)\n",
    "\n",
    "print(\"\\nFlat List:\", flat_list)\n"
   ]
  },
  {
   "cell_type": "markdown",
   "id": "d3c0dde8",
   "metadata": {},
   "source": [
    "# Tuple Problems:"
   ]
  },
  {
   "cell_type": "markdown",
   "id": "b324004e",
   "metadata": {},
   "source": [
    "49. Tuple Concatenation: Write a Python program to concatenate two tuples and create a new tuple."
   ]
  },
  {
   "cell_type": "code",
   "execution_count": 50,
   "id": "b5b21aac",
   "metadata": {},
   "outputs": [
    {
     "name": "stdout",
     "output_type": "stream",
     "text": [
      "Tuple 1: (1, 2, 3)\n",
      "Tuple 2: (4, 5, 6)\n",
      "Concatenated Tuple: (1, 2, 3, 4, 5, 6)\n"
     ]
    }
   ],
   "source": [
    "tuple1 = (1, 2, 3)\n",
    "tuple2 = (4, 5, 6)\n",
    "\n",
    "concatenated_tuple = tuple1 + tuple2\n",
    "\n",
    "print(\"Tuple 1:\", tuple1)\n",
    "print(\"Tuple 2:\", tuple2)\n",
    "print(\"Concatenated Tuple:\", concatenated_tuple)\n"
   ]
  },
  {
   "cell_type": "markdown",
   "id": "a4382aac",
   "metadata": {},
   "source": [
    "50. Tuple Unpacking: Given a tuple with three elements (x, y, z), write a Python program to unpack the tuple and assign the values to three variables."
   ]
  },
  {
   "cell_type": "code",
   "execution_count": 51,
   "id": "16414fc7",
   "metadata": {},
   "outputs": [
    {
     "name": "stdout",
     "output_type": "stream",
     "text": [
      "x: 10\n",
      "y: 20\n",
      "z: 30\n"
     ]
    }
   ],
   "source": [
    "my_tuple = (10, 20, 30)\n",
    "\n",
    "x, y, z = my_tuple\n",
    "\n",
    "print(\"x:\", x)\n",
    "print(\"y:\", y)\n",
    "print(\"z:\", z)\n"
   ]
  },
  {
   "cell_type": "markdown",
   "id": "c7a6d286",
   "metadata": {},
   "source": [
    "51. Tuple Sorting: Write a Python program to sort a tuple of integers in ascending order."
   ]
  },
  {
   "cell_type": "code",
   "execution_count": 52,
   "id": "e5a41eb2",
   "metadata": {},
   "outputs": [
    {
     "name": "stdout",
     "output_type": "stream",
     "text": [
      "Sorted Tuple: (1, 2, 3, 5, 8)\n"
     ]
    }
   ],
   "source": [
    "my_tuple = (5, 2, 8, 1, 3)\n",
    "\n",
    "sorted_tuple = tuple(sorted(my_tuple))\n",
    "\n",
    "print(\"Sorted Tuple:\", sorted_tuple)\n"
   ]
  },
  {
   "cell_type": "markdown",
   "id": "e62e0fc0",
   "metadata": {},
   "source": [
    "52. Tuple Frequency Count: Given a tuple containing various elements, write a Python program to count the frequency of a specific element in the tuple."
   ]
  },
  {
   "cell_type": "code",
   "execution_count": 53,
   "id": "63ade5ba",
   "metadata": {},
   "outputs": [
    {
     "name": "stdout",
     "output_type": "stream",
     "text": [
      "The frequency of 2 in the tuple is: 4\n"
     ]
    }
   ],
   "source": [
    "my_tuple = (1, 2, 2, 3, 4, 2, 5, 2)\n",
    "\n",
    "element_to_count = 2\n",
    "\n",
    "count = 0\n",
    "\n",
    "for item in my_tuple:\n",
    "    if item == element_to_count:\n",
    "        count += 1\n",
    "\n",
    "print(f\"The frequency of {element_to_count} in the tuple is: {count}\")\n"
   ]
  },
  {
   "cell_type": "markdown",
   "id": "0eb180c8",
   "metadata": {},
   "source": [
    "53. Tuple to List: Write a Python program to convert a tuple into a list."
   ]
  },
  {
   "cell_type": "code",
   "execution_count": 54,
   "id": "70c86539",
   "metadata": {},
   "outputs": [
    {
     "name": "stdout",
     "output_type": "stream",
     "text": [
      "Converted List: [1, 2, 3, 4, 5]\n"
     ]
    }
   ],
   "source": [
    "my_tuple = (1, 2, 3, 4, 5)\n",
    "\n",
    "my_list = list(my_tuple)\n",
    "\n",
    "print(\"Converted List:\", my_list)"
   ]
  },
  {
   "cell_type": "markdown",
   "id": "4c801e9b",
   "metadata": {},
   "source": [
    "54. Tuple Reversal: Write a Python program to reverse a tuple without using any built-in functions."
   ]
  },
  {
   "cell_type": "code",
   "execution_count": 55,
   "id": "0c0d991d",
   "metadata": {},
   "outputs": [
    {
     "name": "stdout",
     "output_type": "stream",
     "text": [
      "Reversed Tuple: (5, 4, 3, 2, 1)\n"
     ]
    }
   ],
   "source": [
    "my_tuple = (1, 2, 3, 4, 5)\n",
    "\n",
    "reversed_tuple = ()\n",
    "\n",
    "for item in reversed(my_tuple):\n",
    "    reversed_tuple += (item,)\n",
    "\n",
    "print(\"Reversed Tuple:\", reversed_tuple)"
   ]
  },
  {
   "cell_type": "markdown",
   "id": "136d9a86",
   "metadata": {},
   "source": [
    "55. Tuple Slicing: Given a tuple, write a Python program to extract a slice of elements from it."
   ]
  },
  {
   "cell_type": "code",
   "execution_count": 56,
   "id": "ec343178",
   "metadata": {},
   "outputs": [
    {
     "name": "stdout",
     "output_type": "stream",
     "text": [
      "Sliced Tuple: (3, 4, 5, 6, 7)\n"
     ]
    }
   ],
   "source": [
    "my_tuple = (1, 2, 3, 4, 5, 6, 7, 8, 9, 10)\n",
    "\n",
    "start_index = 2  # Inclusive\n",
    "end_index = 7    # Exclusive\n",
    "\n",
    "sliced_tuple = my_tuple[start_index:end_index]\n",
    "\n",
    "print(\"Sliced Tuple:\", sliced_tuple)"
   ]
  },
  {
   "cell_type": "markdown",
   "id": "75443c59",
   "metadata": {},
   "source": [
    "56. Tuple Operations: Given two tuples of integers, write a Python program to perform element-wise addition, subtraction, and multiplication and create new tuples for each operation."
   ]
  },
  {
   "cell_type": "code",
   "execution_count": 57,
   "id": "e0cc036f",
   "metadata": {},
   "outputs": [
    {
     "name": "stdout",
     "output_type": "stream",
     "text": [
      "Element-wise Addition: (7, 9, 11, 13, 15)\n",
      "Element-wise Subtraction: (-5, -5, -5, -5, -5)\n",
      "Element-wise Multiplication: (6, 14, 24, 36, 50)\n"
     ]
    }
   ],
   "source": [
    "tuple1 = (1, 2, 3, 4, 5)\n",
    "tuple2 = (6, 7, 8, 9, 10)\n",
    "\n",
    "addition_result = tuple(x + y for x, y in zip(tuple1, tuple2))\n",
    "\n",
    "subtraction_result = tuple(x - y for x, y in zip(tuple1, tuple2))\n",
    "\n",
    "multiplication_result = tuple(x * y for x, y in zip(tuple1, tuple2))\n",
    "\n",
    "print(\"Element-wise Addition:\", addition_result)\n",
    "print(\"Element-wise Subtraction:\", subtraction_result)\n",
    "print(\"Element-wise Multiplication:\", multiplication_result)\n"
   ]
  },
  {
   "cell_type": "markdown",
   "id": "83598c93",
   "metadata": {},
   "source": [
    "57. Tuple Membership Test: Write a Python program that takes an element as input and checks if it exists in a given tuple."
   ]
  },
  {
   "cell_type": "code",
   "execution_count": 58,
   "id": "1b417bc3",
   "metadata": {},
   "outputs": [
    {
     "name": "stdout",
     "output_type": "stream",
     "text": [
      "Enter an element to check if it exists in the tuple: 5\n",
      "5 exists in the tuple.\n"
     ]
    }
   ],
   "source": [
    "my_tuple = (1, 2, 3, 4, 5)\n",
    "\n",
    "element_to_check = int(input(\"Enter an element to check if it exists in the tuple: \"))\n",
    "\n",
    "if element_to_check in my_tuple:\n",
    "    print(f\"{element_to_check} exists in the tuple.\")\n",
    "else:\n",
    "    print(f\"{element_to_check} does not exist in the tuple.\")\n"
   ]
  },
  {
   "cell_type": "markdown",
   "id": "911db9f5",
   "metadata": {},
   "source": [
    "58. Tuple Packing: Write a Python program to pack three variables into a single tuple and print the tuple."
   ]
  },
  {
   "cell_type": "code",
   "execution_count": 59,
   "id": "b26c4621",
   "metadata": {},
   "outputs": [
    {
     "name": "stdout",
     "output_type": "stream",
     "text": [
      "Packed Tuple: (10, 'Hello, world!', [1, 2, 3])\n"
     ]
    }
   ],
   "source": [
    "var1 = 10\n",
    "var2 = \"Hello, world!\"\n",
    "var3 = [1, 2, 3]\n",
    "\n",
    "my_tuple = (var1, var2, var3)\n",
    "\n",
    "print(\"Packed Tuple:\", my_tuple)\n"
   ]
  },
  {
   "cell_type": "markdown",
   "id": "26981f1a",
   "metadata": {},
   "source": [
    "# Nested List Problems:"
   ]
  },
  {
   "cell_type": "markdown",
   "id": "01c78841",
   "metadata": {},
   "source": [
    "59. Nested List Element Access: Given a nested list, write a Python program to access and print specific elements from it."
   ]
  },
  {
   "cell_type": "code",
   "execution_count": 60,
   "id": "0d969041",
   "metadata": {},
   "outputs": [
    {
     "name": "stdout",
     "output_type": "stream",
     "text": [
      "Element at row 1, column 2 is 6\n"
     ]
    }
   ],
   "source": [
    "nested_list = [\n",
    "    [1, 2, 3],\n",
    "    [4, 5, 6],\n",
    "    [7, 8, 9]\n",
    "]\n",
    "\n",
    "row_index = 1\n",
    "column_index = 2\n",
    "\n",
    "if row_index < len(nested_list) and column_index < len(nested_list[row_index]):\n",
    "    element = nested_list[row_index][column_index]\n",
    "    print(f\"Element at row {row_index}, column {column_index} is {element}\")\n",
    "else:\n",
    "    print(\"Invalid indices provided.\")\n"
   ]
  },
  {
   "cell_type": "markdown",
   "id": "abad974b",
   "metadata": {},
   "source": [
    "60. Nested List Flattening: Write a Python program to flatten a nested list and convert it into a single-dimensional list."
   ]
  },
  {
   "cell_type": "code",
   "execution_count": 61,
   "id": "1cf2513c",
   "metadata": {},
   "outputs": [
    {
     "name": "stdout",
     "output_type": "stream",
     "text": [
      "Flattened List (Iterative): [1, 6, 7, 8, 2, 5, 3, 4]\n"
     ]
    }
   ],
   "source": [
    "def flatten_nested_list(nested_list):\n",
    "    flattened_list = []\n",
    "    stack = [nested_list]\n",
    "\n",
    "    while stack:\n",
    "        current = stack.pop()\n",
    "        for item in current:\n",
    "            if isinstance(item, list):\n",
    "                stack.append(item)\n",
    "            else:\n",
    "                flattened_list.append(item)\n",
    "\n",
    "    return flattened_list\n",
    "\n",
    "nested_list = [1, [2, [3, 4], 5], 6, [7, 8]]\n",
    "\n",
    "flattened_list = flatten_nested_list(nested_list)\n",
    "\n",
    "print(\"Flattened List (Iterative):\", flattened_list)\n"
   ]
  },
  {
   "cell_type": "markdown",
   "id": "1478cace",
   "metadata": {},
   "source": [
    "61. Nested List Sorting: Given a nested list containing lists of integers, write a Python program to sort the sublists based on their lengths."
   ]
  },
  {
   "cell_type": "code",
   "execution_count": 62,
   "id": "83f21649",
   "metadata": {},
   "outputs": [
    {
     "name": "stdout",
     "output_type": "stream",
     "text": [
      "Sorted Nested List: [[10], [4, 5], [1, 2, 3], [6, 7, 8, 9]]\n"
     ]
    }
   ],
   "source": [
    "nested_list = [[1, 2, 3], [4, 5], [6, 7, 8, 9], [10]]\n",
    "\n",
    "sorted_nested_list = sorted(nested_list, key=lambda x: len(x))\n",
    "\n",
    "print(\"Sorted Nested List:\", sorted_nested_list)"
   ]
  },
  {
   "cell_type": "markdown",
   "id": "8b67565d",
   "metadata": {},
   "source": [
    "62. List of Tuples Conversion: Given a nested list containing tuples of (x, y) coordinates, write a Python program to convert it into a list of x-coordinates and a list of y-coordinates."
   ]
  },
  {
   "cell_type": "code",
   "execution_count": 63,
   "id": "683c3b3a",
   "metadata": {},
   "outputs": [
    {
     "name": "stdout",
     "output_type": "stream",
     "text": [
      "X-Coordinates: [1, 3, 5, 7]\n",
      "Y-Coordinates: [2, 4, 6, 8]\n"
     ]
    }
   ],
   "source": [
    "coordinates_list = [(1, 2), (3, 4), (5, 6), (7, 8)]\n",
    "\n",
    "x_coordinates = [coord[0] for coord in coordinates_list]\n",
    "y_coordinates = [coord[1] for coord in coordinates_list]\n",
    "\n",
    "print(\"X-Coordinates:\", x_coordinates)\n",
    "print(\"Y-Coordinates:\", y_coordinates)"
   ]
  },
  {
   "cell_type": "markdown",
   "id": "f64c9610",
   "metadata": {},
   "source": [
    "63. Matrix Transpose: Write a Python program to transpose a given matrix represented as a nested list."
   ]
  },
  {
   "cell_type": "code",
   "execution_count": 64,
   "id": "cd53254f",
   "metadata": {},
   "outputs": [
    {
     "name": "stdout",
     "output_type": "stream",
     "text": [
      "[1, 4, 7]\n",
      "[2, 5, 8]\n",
      "[3, 6, 9]\n"
     ]
    }
   ],
   "source": [
    "matrix = [\n",
    "    [1, 2, 3],\n",
    "    [4, 5, 6],\n",
    "    [7, 8, 9]\n",
    "]\n",
    "\n",
    "transpose_matrix = [[row[i] for row in matrix] for i in range(len(matrix[0]))]\n",
    "\n",
    "for row in transpose_matrix:\n",
    "    print(row)"
   ]
  },
  {
   "cell_type": "markdown",
   "id": "f30d5284",
   "metadata": {},
   "source": [
    "64. Nested List Concatenation: Given a list of nested lists, write a Python program to concatenate all the sublists into a single flat list."
   ]
  },
  {
   "cell_type": "code",
   "execution_count": 65,
   "id": "e58d9be2",
   "metadata": {},
   "outputs": [
    {
     "name": "stdout",
     "output_type": "stream",
     "text": [
      "Flat List: [1, 2, 3, 4, 5, 6, 7, 8, 9, 10]\n"
     ]
    }
   ],
   "source": [
    "nested_lists = [[1, 2, 3], [4, 5], [6, 7, 8, 9], [10]]\n",
    "\n",
    "flat_list = [item for sublist in nested_lists for item in sublist]\n",
    "\n",
    "print(\"Flat List:\", flat_list)"
   ]
  },
  {
   "cell_type": "markdown",
   "id": "96b8452b",
   "metadata": {},
   "source": [
    "65. Count Even Numbers: Write a Python program to count the number of even numbers in a nested list."
   ]
  },
  {
   "cell_type": "code",
   "execution_count": 66,
   "id": "7c5b54ad",
   "metadata": {},
   "outputs": [
    {
     "name": "stdout",
     "output_type": "stream",
     "text": [
      "Count of Even Numbers: 4\n"
     ]
    }
   ],
   "source": [
    "nested_list = [[1, 2, 3], [4, 5, 6], [7, 8, 9]]\n",
    "\n",
    "even_count = 0\n",
    "\n",
    "for sublist in nested_list:\n",
    "    for number in sublist:\n",
    "        if number % 2 == 0:  # Check if the number is even\n",
    "            even_count += 1\n",
    "\n",
    "print(\"Count of Even Numbers:\", even_count)"
   ]
  },
  {
   "cell_type": "markdown",
   "id": "c3cba2d5",
   "metadata": {},
   "source": [
    "66. Maximum Element in Nested List: Write a Python program to find the maximum element in a nested list of integers."
   ]
  },
  {
   "cell_type": "code",
   "execution_count": 67,
   "id": "aaae4c2f",
   "metadata": {},
   "outputs": [
    {
     "name": "stdout",
     "output_type": "stream",
     "text": [
      "Maximum Element: 9\n"
     ]
    }
   ],
   "source": [
    "nested_list = [[1, 2, 3], [4, 5, 6], [7, 8, 9]]\n",
    "\n",
    "max_element = float(\"-inf\")  \n",
    "\n",
    "for sublist in nested_list:\n",
    "    for number in sublist:\n",
    "        if number > max_element:\n",
    "            max_element = number\n",
    "\n",
    "print(\"Maximum Element:\", max_element)"
   ]
  },
  {
   "cell_type": "markdown",
   "id": "f8079678",
   "metadata": {},
   "source": [
    "67. Diagonal Sum of Matrix: Given a square matrix represented as a nested list, write a Python program to calculate the sum of the elements in the main diagonal."
   ]
  },
  {
   "cell_type": "code",
   "execution_count": 68,
   "id": "1bbfdb83",
   "metadata": {},
   "outputs": [
    {
     "name": "stdout",
     "output_type": "stream",
     "text": [
      "Sum of Main Diagonal: 15\n"
     ]
    }
   ],
   "source": [
    "matrix = [\n",
    "    [1, 2, 3],\n",
    "    [4, 5, 6],\n",
    "    [7, 8, 9]\n",
    "]\n",
    "\n",
    "diagonal_sum = 0\n",
    "\n",
    "for i in range(len(matrix)):\n",
    "    diagonal_sum += matrix[i][i]\n",
    "\n",
    "print(\"Sum of Main Diagonal:\", diagonal_sum)\n"
   ]
  },
  {
   "cell_type": "markdown",
   "id": "6c0b8cbe",
   "metadata": {},
   "source": [
    "68. Nested List Element Search: Write a Python program to search for a specific element in a nested list and return its position (row and column indices)."
   ]
  },
  {
   "cell_type": "code",
   "execution_count": 69,
   "id": "e7e282e4",
   "metadata": {},
   "outputs": [
    {
     "name": "stdout",
     "output_type": "stream",
     "text": [
      "Element 5 found at position: (Row 1, Column 1)\n"
     ]
    }
   ],
   "source": [
    "nested_list = [\n",
    "    [1, 2, 3],\n",
    "    [4, 5, 6],\n",
    "    [7, 8, 9]\n",
    "]\n",
    "\n",
    "element_to_find = 5\n",
    "\n",
    "row_index = -1  # Initialize as -1 to indicate not found\n",
    "col_index = -1\n",
    "\n",
    "for i in range(len(nested_list)):\n",
    "    for j in range(len(nested_list[i])):\n",
    "        if nested_list[i][j] == element_to_find:\n",
    "            row_index = i\n",
    "            col_index = j\n",
    "            break  \n",
    "\n",
    "if row_index != -1 and col_index != -1:\n",
    "    print(f\"Element {element_to_find} found at position: (Row {row_index}, Column {col_index})\")\n",
    "else:\n",
    "    print(f\"Element {element_to_find} not found in the nested list.\")\n"
   ]
  },
  {
   "cell_type": "markdown",
   "id": "da904457",
   "metadata": {},
   "source": [
    "# Set Problems:"
   ]
  },
  {
   "cell_type": "markdown",
   "id": "2f6c67c9",
   "metadata": {},
   "source": [
    "69. Duplicate Removal: Write a Python program that takes a list of elements as input and creates a new set containing only the unique elements from the list."
   ]
  },
  {
   "cell_type": "code",
   "execution_count": 70,
   "id": "2c410fe3",
   "metadata": {},
   "outputs": [
    {
     "name": "stdout",
     "output_type": "stream",
     "text": [
      "Enter a list of elements separated by spaces: 5 4 2\n",
      "Unique Elements: ['5', '2', '4']\n"
     ]
    }
   ],
   "source": [
    "input_list = input(\"Enter a list of elements separated by spaces: \").split()\n",
    "\n",
    "unique_set = set(input_list)\n",
    "\n",
    "unique_list = list(unique_set)\n",
    "\n",
    "print(\"Unique Elements:\", unique_list)"
   ]
  },
  {
   "cell_type": "markdown",
   "id": "191a603e",
   "metadata": {},
   "source": [
    "70. Set Intersection: Given two sets A and B, write a Python program to find their intersection and print the common elements."
   ]
  },
  {
   "cell_type": "code",
   "execution_count": 71,
   "id": "6af73e01",
   "metadata": {},
   "outputs": [
    {
     "name": "stdout",
     "output_type": "stream",
     "text": [
      "Common Elements: {4, 5}\n"
     ]
    }
   ],
   "source": [
    "set_A = {1, 2, 3, 4, 5}\n",
    "set_B = {4, 5, 6, 7, 8}\n",
    "\n",
    "intersection_result = set_A.intersection(set_B)\n",
    "\n",
    "print(\"Common Elements:\", intersection_result)\n"
   ]
  },
  {
   "cell_type": "markdown",
   "id": "07ce24ca",
   "metadata": {},
   "source": [
    "71. Set Union: Given two sets A and B, write a Python program to find their union and print all the distinct elements from both sets."
   ]
  },
  {
   "cell_type": "code",
   "execution_count": 72,
   "id": "37135e66",
   "metadata": {},
   "outputs": [
    {
     "name": "stdout",
     "output_type": "stream",
     "text": [
      "Union of Sets A and B: {1, 2, 3, 4, 5, 6, 7, 8}\n"
     ]
    }
   ],
   "source": [
    "set_A = {1, 2, 3, 4, 5}\n",
    "set_B = {4, 5, 6, 7, 8}\n",
    "\n",
    "union_result = set_A.union(set_B)\n",
    "\n",
    "print(\"Union of Sets A and B:\", union_result)\n"
   ]
  },
  {
   "cell_type": "markdown",
   "id": "ff2d2aef",
   "metadata": {},
   "source": [
    "72. Set Difference: Given two sets A and B, write a Python program to find the difference between set A and set B (i.e., elements present in A but not in B) and print the result."
   ]
  },
  {
   "cell_type": "code",
   "execution_count": 73,
   "id": "766d157d",
   "metadata": {},
   "outputs": [
    {
     "name": "stdout",
     "output_type": "stream",
     "text": [
      "Difference between Set A and Set B: {1, 2, 3}\n"
     ]
    }
   ],
   "source": [
    "set_A = {1, 2, 3, 4, 5}\n",
    "set_B = {4, 5, 6, 7, 8}\n",
    "\n",
    "difference_result = set_A.difference(set_B)\n",
    "print(\"Difference between Set A and Set B:\", difference_result)"
   ]
  },
  {
   "cell_type": "markdown",
   "id": "47c51703",
   "metadata": {},
   "source": [
    "73. Set Symmetric Difference: Given two sets A and B, write a Python program to find the symmetric difference between the two sets (i.e., elements that are present in either set A or set B, but not in both) and print the result."
   ]
  },
  {
   "cell_type": "code",
   "execution_count": 74,
   "id": "82c64830",
   "metadata": {},
   "outputs": [
    {
     "name": "stdout",
     "output_type": "stream",
     "text": [
      "Symmetric Difference between Set A and Set B: {1, 2, 3, 6, 7, 8}\n"
     ]
    }
   ],
   "source": [
    "set_A = {1, 2, 3, 4, 5}\n",
    "set_B = {4, 5, 6, 7, 8}\n",
    "symmetric_difference_result = set_A.symmetric_difference(set_B)\n",
    "print(\"Symmetric Difference between Set A and Set B:\", symmetric_difference_result)"
   ]
  },
  {
   "cell_type": "markdown",
   "id": "eca68f7d",
   "metadata": {},
   "source": [
    "74. Set Operations: Given three sets A, B, and C, write a Python program to find and print the intersection of A and B, the union of B and C, and the difference between C and A."
   ]
  },
  {
   "cell_type": "code",
   "execution_count": 75,
   "id": "b87aae47",
   "metadata": {},
   "outputs": [
    {
     "name": "stdout",
     "output_type": "stream",
     "text": [
      "Intersection of Set A and Set B: {4, 5}\n",
      "Union of Set B and Set C: {4, 5, 6, 7, 8, 9}\n",
      "Difference between Set C and Set A: {8, 9, 6, 7}\n"
     ]
    }
   ],
   "source": [
    "set_A = {1, 2, 3, 4, 5}\n",
    "set_B = {4, 5, 6, 7, 8}\n",
    "set_C = {5, 6, 7, 8, 9}\n",
    "intersection_AB = set_A.intersection(set_B)\n",
    "print(\"Intersection of Set A and Set B:\", intersection_AB)\n",
    "union_BC = set_B.union(set_C)\n",
    "print(\"Union of Set B and Set C:\", union_BC)\n",
    "difference_CA = set_C.difference(set_A)\n",
    "print(\"Difference between Set C and Set A:\", difference_CA)"
   ]
  },
  {
   "cell_type": "markdown",
   "id": "3df6216c",
   "metadata": {},
   "source": [
    "75. Set Subset Check: Given two sets A and B, write a Python program to check if set A is a subset of set B and print the result."
   ]
  },
  {
   "cell_type": "code",
   "execution_count": 76,
   "id": "ddd08694",
   "metadata": {},
   "outputs": [
    {
     "name": "stdout",
     "output_type": "stream",
     "text": [
      "Set A is a subset of Set B.\n"
     ]
    }
   ],
   "source": [
    "set_A = {1, 2, 3}\n",
    "set_B = {1, 2, 3, 4, 5}\n",
    "is_subset = set_A.issubset(set_B)\n",
    "if is_subset:\n",
    "    print(\"Set A is a subset of Set B.\")\n",
    "else:\n",
    "    print(\"Set A is not a subset of Set B.\")"
   ]
  },
  {
   "cell_type": "markdown",
   "id": "032f65f0",
   "metadata": {},
   "source": [
    "76. Set Superset Check: Given two sets A and B, write a Python program to check if set A is a superset of set B and print the result."
   ]
  },
  {
   "cell_type": "code",
   "execution_count": 77,
   "id": "6d582883",
   "metadata": {},
   "outputs": [
    {
     "name": "stdout",
     "output_type": "stream",
     "text": [
      "Set A is a superset of Set B.\n"
     ]
    }
   ],
   "source": [
    "set_A = {1, 2, 3, 4, 5}\n",
    "set_B = {1, 2, 3}\n",
    "is_superset = set_A.issuperset(set_B)\n",
    "if is_superset:\n",
    "    print(\"Set A is a superset of Set B.\")\n",
    "else:\n",
    "    print(\"Set A is not a superset of Set B.\")"
   ]
  },
  {
   "cell_type": "markdown",
   "id": "a117e192",
   "metadata": {},
   "source": [
    "77. Set Length Check: Write a Python program that takes a set as input and prints the number of elements in the set."
   ]
  },
  {
   "cell_type": "code",
   "execution_count": 78,
   "id": "c159da7e",
   "metadata": {},
   "outputs": [
    {
     "name": "stdout",
     "output_type": "stream",
     "text": [
      "Enter a set of elements separated by spaces: 5 4 7\n",
      "Number of Elements in the Set: 3\n"
     ]
    }
   ],
   "source": [
    "input_set = set(input(\"Enter a set of elements separated by spaces: \").split())\n",
    "num_elements = len(input_set)\n",
    "print(\"Number of Elements in the Set:\", num_elements)"
   ]
  },
  {
   "cell_type": "markdown",
   "id": "1a4da7bb",
   "metadata": {},
   "source": [
    "76. Set Membership Test: Write a Python program that takes an element as input and checks if it exists in a given set. Print “Found” if the element is present and “Not Found” otherwise."
   ]
  },
  {
   "cell_type": "code",
   "execution_count": 79,
   "id": "6bf397f3",
   "metadata": {},
   "outputs": [
    {
     "name": "stdout",
     "output_type": "stream",
     "text": [
      "Enter an element to check: 5\n",
      "Found\n"
     ]
    }
   ],
   "source": [
    "my_set = {1, 2, 3, 4, 5}\n",
    "element_to_check = int(input(\"Enter an element to check: \"))\n",
    "if element_to_check in my_set:\n",
    "    print(\"Found\")\n",
    "else:\n",
    "    print(\"Not Found\")"
   ]
  },
  {
   "cell_type": "markdown",
   "id": "dbbac7f6",
   "metadata": {},
   "source": [
    "# Dictionary Problems:"
   ]
  },
  {
   "cell_type": "markdown",
   "id": "ff29db51",
   "metadata": {},
   "source": [
    "77. Dictionary Manipulation: Given a dictionary with student names as keys and their corresponding scores as values, write a Python program to add a new student to the dictionary and update the score of an existing student."
   ]
  },
  {
   "cell_type": "code",
   "execution_count": 80,
   "id": "6316dfb0",
   "metadata": {},
   "outputs": [
    {
     "name": "stdout",
     "output_type": "stream",
     "text": [
      "Initial Student Scores:\n",
      "Alice: 90\n",
      "Bob: 85\n",
      "Charlie: 78\n",
      "David: 92\n",
      "Enter the name of the student: david\n",
      "Enter the new score: 75\n",
      "\n",
      "Updated Student Scores:\n",
      "Alice: 90\n",
      "Bob: 85\n",
      "Charlie: 78\n",
      "David: 92\n",
      "david: 75\n"
     ]
    }
   ],
   "source": [
    "student_scores = {\n",
    "    \"Alice\": 90,\n",
    "    \"Bob\": 85,\n",
    "    \"Charlie\": 78,\n",
    "    \"David\": 92\n",
    "}\n",
    "\n",
    "print(\"Initial Student Scores:\")\n",
    "for student, score in student_scores.items():\n",
    "    print(f\"{student}: {score}\")\n",
    "\n",
    "new_student = input(\"Enter the name of the student: \")\n",
    "new_score = int(input(\"Enter the new score: \"))\n",
    "\n",
    "student_scores[new_studen75t] = new_score\n",
    "\n",
    "print(\"\\nUpdated Student Scores:\")\n",
    "for student, score in student_scores.items():\n",
    "    print(f\"{student}: {score}\")"
   ]
  },
  {
   "cell_type": "markdown",
   "id": "0fae84b2",
   "metadata": {},
   "source": [
    "78. Dictionary Keys and Values: Write a Python program that takes a dictionary as input and prints all the keys and values in separate lines."
   ]
  },
  {
   "cell_type": "code",
   "execution_count": null,
   "id": "e5436f39",
   "metadata": {},
   "outputs": [],
   "source": [
    "input_dict = eval(input(\"Enter a dictionary (in the format {key1: value1, key2: value2}): \"))\n",
    "\n",
    "print(\"Keys:\")\n",
    "for key in input_dict:\n",
    "    print(key)\n",
    "\n",
    "    print(\"\\nValues:\")\n",
    "for value in input_dict.values():\n",
    "    print(value)"
   ]
  },
  {
   "cell_type": "markdown",
   "id": "07a4de52",
   "metadata": {},
   "source": [
    "79. Dictionary Length: Write a Python program to calculate and print the number of key-value pairs in a given dictionary."
   ]
  },
  {
   "cell_type": "code",
   "execution_count": null,
   "id": "10fd5ddb",
   "metadata": {},
   "outputs": [],
   "source": [
    "my_dict = {\n",
    "    \"name\": \"Alice\",\n",
    "    \"age\": 25,\n",
    "    \"city\": \"New York\"\n",
    "}\n",
    "\n",
    "num_pairs = len(my_dict)\n",
    "print(\"Number of Key-Value Pairs in the Dictionary:\", num_pairs)"
   ]
  },
  {
   "cell_type": "markdown",
   "id": "149dcebe",
   "metadata": {},
   "source": [
    "80. Dictionary Value Search: Given a dictionary of items and their prices, write a Python program to search for an item based on its price and print the item’s name."
   ]
  },
  {
   "cell_type": "code",
   "execution_count": null,
   "id": "c8888046",
   "metadata": {},
   "outputs": [],
   "source": [
    "items_prices = {\n",
    "    \"item1\": 10.99,\n",
    "    \"item2\": 5.99,\n",
    "    \"item3\": 15.99,\n",
    "    \"item4\": 7.99\n",
    "}\n",
    "\n",
    "search_price = float(input(\"Enter a price to search for: \"))\n",
    "\n",
    "found_item = None\n",
    "\n",
    "for item, price in items_prices.items():\n",
    "    if price == search_price:\n",
    "        found_item = item\n",
    "        break\n",
    "\n",
    "if found_item is not None:\n",
    "    print(f\"The item with price ${search_price} is: {found_item}\")\n",
    "else:\n",
    "    print(f\"No item found with price ${search_price}\")"
   ]
  },
  {
   "cell_type": "markdown",
   "id": "471c87cf",
   "metadata": {},
   "source": [
    "81. Dictionary Merging: Given two dictionaries, write a Python program to merge them into a single dictionary and print the result."
   ]
  },
  {
   "cell_type": "code",
   "execution_count": null,
   "id": "9e5cbfb7",
   "metadata": {},
   "outputs": [],
   "source": [
    "dict1 = {\"a\": 1, \"b\": 2, \"c\": 3}\n",
    "dict2 = {\"c\": 4, \"d\": 5, \"e\": 6}\n",
    "\n",
    "merged_dict1 = dict1.copy()\n",
    "merged_dict1.update(dict2)\n",
    "\n",
    "merged_dict2 = {**dict1, **dict2}\n",
    "\n",
    "print(\"Merged Dictionary (Method 1 - using update()):\")\n",
    "print(merged_dict1)\n",
    "\n",
    "print(\"\\nMerged Dictionary (Method 2 - using unpacking operator):\")\n",
    "print(merged_dict2)"
   ]
  },
  {
   "cell_type": "markdown",
   "id": "48ea951c",
   "metadata": {},
   "source": [
    "82. Dictionary Key Removal: Given a dictionary of items and their quantities, write a Python program to remove a specific item from the dictionary based on user input."
   ]
  },
  {
   "cell_type": "code",
   "execution_count": null,
   "id": "3dcbf638",
   "metadata": {},
   "outputs": [],
   "source": [
    "items_quantities = {\n",
    "    \"item1\": 10,\n",
    "    \"item2\": 5,\n",
    "    \"item3\": 15,\n",
    "    \"item4\": 7\n",
    "}\n",
    "\n",
    "print(\"Initial Dictionary:\")\n",
    "for item, quantity in items_quantities.items():\n",
    "    print(f\"{item}: {quantity}\")\n",
    "\n",
    "item_to_remove = input(\"Enter the name of the item to remove: \")\n",
    "\n",
    "if item_to_remove in items_quantities:\n",
    "    del items_quantities[item_to_remove]\n",
    "    print(f\"{item_to_remove} has been removed from the dictionary.\")\n",
    "else:\n",
    "    print(f\"{item_to_remove} is not in the dictionary.\")\n",
    "\n",
    "print(\"\\nUpdated Dictionary:\")\n",
    "for item, quantity in items_quantities.items():\n",
    "    print(f\"{item}: {quantity}\")"
   ]
  },
  {
   "cell_type": "markdown",
   "id": "58782476",
   "metadata": {},
   "source": [
    "83. Dictionary Sorting: Given a dictionary with names as keys and corresponding ages as values, write a Python program to sort the dictionary based on age in ascending order."
   ]
  },
  {
   "cell_type": "code",
   "execution_count": null,
   "id": "e827b2b8",
   "metadata": {},
   "outputs": [],
   "source": [
    "ages_dict = {\n",
    "    \"Alice\": 25,\n",
    "    \"Bob\": 30,\n",
    "    \"Charlie\": 22,\n",
    "    \"David\": 28,\n",
    "    \"Eva\": 35\n",
    "}\n",
    "\n",
    "sorted_ages_dict = dict(sorted(ages_dict.items(), key=lambda item: item[1]))\n",
    "\n",
    "print(\"Sorted Dictionary (Ascending Order of Ages):\")\n",
    "for name, age in sorted_ages_dict.items():\n",
    "    print(f\"{name}: {age}\")"
   ]
  },
  {
   "cell_type": "markdown",
   "id": "9e220125",
   "metadata": {},
   "source": [
    "84. Dictionary Frequency Count: Write a Python program that takes a string as input and creates a dictionary containing each character as a key and its frequency as the value."
   ]
  },
  {
   "cell_type": "code",
   "execution_count": null,
   "id": "400b0e40",
   "metadata": {},
   "outputs": [],
   "source": [
    "input_string = input(\"Enter a string: \")\n",
    "\n",
    "\n",
    "char_frequency_dict = {}\n",
    "\n",
    "\n",
    "for char in input_string:\n",
    "  \n",
    "    if char.isalnum():\n",
    "      \n",
    "        char = char.lower()\n",
    "\n",
    "       \n",
    "        if char not in char_frequency_dict:\n",
    "            char_frequency_dict[char] = 1\n",
    "        else:\n",
    "            char_frequency_dict[char] += 1\n",
    "\n",
    "print(\"Character Frequency Count:\")\n",
    "for char, frequency in char_frequency_dict.items():\n",
    "    print(f\"{char}: {frequency}\")"
   ]
  },
  {
   "cell_type": "markdown",
   "id": "ef705f81",
   "metadata": {},
   "source": [
    "85. Dictionary Comprehension: Given a list of integers, write a Python program to create a dictionary where the keys are the elements from the list, and the values are their squares."
   ]
  },
  {
   "cell_type": "code",
   "execution_count": null,
   "id": "e1708727",
   "metadata": {},
   "outputs": [],
   "source": [
    "integer_list = [1, 2, 3, 4, 5]\n",
    "\n",
    "squared_dict = {x: x**2 for x in integer_list}\n",
    "\n",
    "print(\"Dictionary with Squares:\")\n",
    "print(squared_dict)"
   ]
  },
  {
   "cell_type": "markdown",
   "id": "c115139d",
   "metadata": {},
   "source": [
    "86. Dictionary Key Check: Write a Python program that takes a key as input and checks if it exists in a given dictionary. Print “Key Found” if the key is present and “Key Not Found” otherwise."
   ]
  },
  {
   "cell_type": "code",
   "execution_count": null,
   "id": "30e2b071",
   "metadata": {},
   "outputs": [],
   "source": [
    "my_dict = {\n",
    "    \"name\": \"Alice\",\n",
    "    \"age\": 25,\n",
    "    \"city\": \"New York\"\n",
    "}\n",
    "\n",
    "input_key = input(\"Enter a key to check: \")\n",
    "\n",
    "if input_key in my_dict:\n",
    "    print(\"Key Found\")\n",
    "else:\n",
    "    print(\"Key Not Found\")"
   ]
  },
  {
   "cell_type": "markdown",
   "id": "7dc6376d",
   "metadata": {},
   "source": [
    "Nested Dictionary Problems:"
   ]
  },
  {
   "cell_type": "markdown",
   "id": "f861c1f7",
   "metadata": {},
   "source": [
    "87. Access Nested Dictionary: Given a nested dictionary containing student details, write a Python program to access and print specific information such as a student’s name, age, and address."
   ]
  },
  {
   "cell_type": "code",
   "execution_count": null,
   "id": "ec420f78",
   "metadata": {},
   "outputs": [],
   "source": [
    "# Define a nested dictionary containing student details\n",
    "student_details = {\n",
    "    \"student1\": {\n",
    "        \"name\": \"Alice\",\n",
    "        \"age\": 20,\n",
    "        \"address\": \"123 Main St, City1\"\n",
    "    },\n",
    "    \"student2\": {\n",
    "        \"name\": \"Bob\",\n",
    "        \"age\": 22,\n",
    "        \"address\": \"456 Elm St, City2\"\n",
    "    },\n",
    "    \"student3\": {\n",
    "        \"name\": \"Charlie\",\n",
    "        \"age\": 19,\n",
    "        \"address\": \"789 Oak St, City3\"\n",
    "    }\n",
    "}\n",
    "\n",
    "student_id = \"student2\"\n",
    "if student_id in student_details:\n",
    "    student = student_details[student_id]\n",
    "    print(f\"Student Name: {student['name']}\")\n",
    "    print(f\"Student Age: {student['age']}\")\n",
    "    print(f\"Student Address: {student['address']}\")\n",
    "else:\n",
    "    print(f\"Student with ID '{student_id}' not found.\")"
   ]
  },
  {
   "cell_type": "markdown",
   "id": "48c09fa9",
   "metadata": {},
   "source": [
    "88. Nested Dictionary Length: Write a Python program to calculate and print the total number of key-value pairs in a nested dictionary."
   ]
  },
  {
   "cell_type": "code",
   "execution_count": null,
   "id": "56a58e85",
   "metadata": {},
   "outputs": [],
   "source": [
    "nested_dict = {\n",
    "    \"outer_key1\": {\n",
    "        \"inner_key1\": \"value1\",\n",
    "        \"inner_key2\": \"value2\"\n",
    "    },\n",
    "    \"outer_key2\": {\n",
    "        \"inner_key3\": \"value3\",\n",
    "        \"inner_key4\": \"value4\"\n",
    "    },\n",
    "    \"outer_key3\": {\n",
    "        \"inner_key5\": \"value5\"\n",
    "    }\n",
    "}\n",
    "\n",
    "def count_key_value_pairs(dictionary):\n",
    "    count = 0\n",
    "    for key, value in dictionary.items():\n",
    "        count += 1\n",
    "        if isinstance(value, dict):\n",
    "            count += count_key_value_pairs(value)\n",
    "    return count\n",
    "\n",
    "total_pairs = count_key_value_pairs(nested_dict)\n",
    "print(\"Total Number of Key-Value Pairs in the Nested Dictionary:\", total_pairs)"
   ]
  },
  {
   "cell_type": "markdown",
   "id": "93ec17a5",
   "metadata": {},
   "source": [
    "89. Nested Dictionary Update: Given a nested dictionary of employee details, write a Python program to update an employee’s salary based on their employee ID."
   ]
  },
  {
   "cell_type": "code",
   "execution_count": null,
   "id": "3b11006e",
   "metadata": {},
   "outputs": [],
   "source": [
    "employee_details = {\n",
    "    101: {\n",
    "        \"name\": \"Alice\",\n",
    "        \"salary\": 50000\n",
    "    },\n",
    "    102: {\n",
    "        \"name\": \"Bob\",\n",
    "        \"salary\": 60000\n",
    "    },\n",
    "    103: {\n",
    "        \"name\": \"Charlie\",\n",
    "        \"salary\": 55000\n",
    "    }\n",
    "}\n",
    "\n",
    "def update_employee_salary(employee_id, new_salary):\n",
    "    if employee_id in employee_details:\n",
    "        employee_details[employee_id][\"salary\"] = new_salary\n",
    "        print(f\"Salary updated for Employee ID {employee_id}\")\n",
    "    else:\n",
    "        print(f\"Employee ID {employee_id} not found.\")\n",
    "\n",
    "employee_id_to_update = int(input(\"Enter the Employee ID to update: \"))\n",
    "new_salary = float(input(\"Enter the new salary: \"))\n",
    "\n",
    "update_employee_salary(employee_id_to_update, new_salary)\n",
    "\n",
    "print(\"\\nUpdated Employee Details:\")\n",
    "for employee_id, details in employee_details.items():\n",
    "    print(f\"Employee ID: {employee_id}\")\n",
    "    print(f\"Name: {details['name']}\")\n",
    "    print(f\"Salary: {details['salary']}\\n\")"
   ]
  },
  {
   "cell_type": "markdown",
   "id": "8bad040c",
   "metadata": {},
   "source": [
    "90. Nested Dictionary Sorting: Given a nested dictionary containing product details (product name, price, and quantity), write a Python program to sort the products based on their prices in ascending order."
   ]
  },
  {
   "cell_type": "code",
   "execution_count": null,
   "id": "7f513e3b",
   "metadata": {},
   "outputs": [],
   "source": [
    "product_details = {\n",
    "    \"product1\": {\n",
    "        \"name\": \"Item A\",\n",
    "        \"price\": 10.99,\n",
    "        \"quantity\": 50\n",
    "    },\n",
    "    \"product2\": {\n",
    "        \"name\": \"Item B\",\n",
    "        \"price\": 5.99,\n",
    "        \"quantity\": 30\n",
    "    },\n",
    "    \"product3\": {\n",
    "        \"name\": \"Item C\",\n",
    "        \"price\": 15.99,\n",
    "        \"quantity\": 20\n",
    "    },\n",
    "    \"product4\": {\n",
    "        \"name\": \"Item D\",\n",
    "        \"price\": 7.99,\n",
    "        \"quantity\": 40\n",
    "    }\n",
    "}\n",
    "\n",
    "sorted_products = dict(sorted(product_details.items(), key=lambda item: item[1][\"price\"]))\n",
    "\n",
    "print(\"Sorted Products (Ascending Order of Prices):\")\n",
    "for product_id, details in sorted_products.items():\n",
    "    print(f\"Product ID: {product_id}\")\n",
    "    print(f\"Name: {details['name']}\")\n",
    "    print(f\"Price: ${details['price']:.2f}\")\n",
    "    print(f\"Quantity: {details['quantity']}\\n\")"
   ]
  },
  {
   "cell_type": "markdown",
   "id": "4fd834a6",
   "metadata": {},
   "source": [
    "91. Nested Dictionary Key Search: Write a Python program that takes a key as input and searches for it in a nested dictionary. If found, print the corresponding value, otherwise, print “Key Not Found.”"
   ]
  },
  {
   "cell_type": "code",
   "execution_count": null,
   "id": "d050a334",
   "metadata": {},
   "outputs": [],
   "source": [
    "nested_dict = {\n",
    "    \"level1\": {\n",
    "        \"key1\": \"value1\",\n",
    "        \"key2\": \"value2\",\n",
    "        \"level2\": {\n",
    "            \"key3\": \"value3\",\n",
    "            \"key4\": \"value4\"\n",
    "        }\n",
    "    },\n",
    "    \"level3\": {\n",
    "        \"key5\": \"value5\"\n",
    "    }\n",
    "}\n",
    "\n",
    "def search_nested_dict(dictionary, search_key):\n",
    "    for key, value in dictionary.items():\n",
    "        if key == search_key:\n",
    "            return value\n",
    "        elif isinstance(value, dict):\n",
    "            result = search_nested_dict(value, search_key)\n",
    "            if result is not None:\n",
    "                return result\n",
    "    return None\n",
    "\n",
    "search_key = input(\"Enter a key to search: \")\n",
    "\n",
    "result = search_nested_dict(nested_dict, search_key)\n",
    "\n",
    "if result is not None:\n",
    "    print(f\"Value for '{search_key}': {result}\")\n",
    "else:\n",
    "    print(f\"Key '{search_key}' not found.\")"
   ]
  },
  {
   "cell_type": "markdown",
   "id": "a7e976b6",
   "metadata": {},
   "source": [
    "Break & Continue: "
   ]
  },
  {
   "cell_type": "markdown",
   "id": "13964914",
   "metadata": {},
   "source": [
    "92. Prime Number Checker: Write a Python program that takes a number as input and determines if it is a prime number or not. Use a `for` loop to check for factors. If a factor is found, `break` out of the loop."
   ]
  },
  {
   "cell_type": "code",
   "execution_count": null,
   "id": "ae99dc50",
   "metadata": {},
   "outputs": [],
   "source": [
    "def is_prime(number):\n",
    "    # Check for special cases: 0, 1, and negative numbers are not prime\n",
    "    if number <= 1:\n",
    "        return False\n",
    "\n",
    "\n",
    "    for i in range(2, int(number**0.5) + 1):\n",
    "        if number % i == 0:\n",
    "            return False  \n",
    "    return True  \n",
    "try:\n",
    "    num = int(input(\"Enter a number to check if it's prime: \"))\n",
    "\n",
    " \n",
    "    if is_prime(num):\n",
    "        print(f\"{num} is a prime number.\")\n",
    "    else:\n",
    "        print(f\"{num} is not a prime number.\")\n",
    "except ValueError:\n",
    "    print(\"Invalid input. Please enter a valid number.\")"
   ]
  },
  {
   "cell_type": "markdown",
   "id": "e3059b77",
   "metadata": {},
   "source": [
    "93. Even Number Printer: Write a Python program to print all even numbers from 1 to 20. Use a `for` loop and `continue` to skip odd numbers."
   ]
  },
  {
   "cell_type": "code",
   "execution_count": null,
   "id": "955d6d76",
   "metadata": {},
   "outputs": [],
   "source": [
    "for num in range(1, 21):\n",
    "        if num % 2 != 0:\n",
    "        continue     \n",
    "    print(num)"
   ]
  },
  {
   "cell_type": "markdown",
   "id": "f71b8285",
   "metadata": {},
   "source": [
    "94. Password Validator: Write a Python program that takes a password as input and checks if it meets the following criteria: at least 8 characters long, contains both uppercase and lowercase letters, and has at least one digit. If the password is valid, print “Password accepted.” If not, use `continue` to prompt the user to enter a valid password."
   ]
  },
  {
   "cell_type": "code",
   "execution_count": null,
   "id": "74d6f896",
   "metadata": {},
   "outputs": [],
   "source": [
    "while True:\n",
    "   \n",
    "    password = input(\"Enter a password: \")\n",
    "\n",
    "   \n",
    "    if len(password) < 8:\n",
    "        print(\"Password must be at least 8 characters long.\")\n",
    "        continue  \n",
    "    if not any(char.isupper() for char in password):\n",
    "        print(\"Password must contain at least one uppercase letter.\")\n",
    "        continue  \n",
    "    if not any(char.islower() for char in password):\n",
    "        print(\"Password must contain at least one lowercase letter.\")\n",
    "        continue  \n",
    "    if not any(char.isdigit() for char in password):\n",
    "        print(\"Password must contain at least one digit.\")\n",
    "        continue  \n",
    "\n",
    "    \n",
    "    print(\"Password accepted\")\n",
    "    break"
   ]
  },
  {
   "cell_type": "markdown",
   "id": "12b4cb68",
   "metadata": {},
   "source": [
    "95. Divisible by 3 or 5: Write a Python program to print all numbers from 1 to 50 that are divisible by either 3 or 5. Use a `for` loop and `continue` to skip numbers that are not divisible by either 3 or 5."
   ]
  },
  {
   "cell_type": "markdown",
   "id": "f652abaf",
   "metadata": {},
   "source": [
    "95. Divisible by 3 or 5: Write a Python program to print all numbers from 1 to 50 that are divisible by either 3 or 5. Use a `for` loop and `continue` to skip numbers that are not divisible by either 3 or 5."
   ]
  },
  {
   "cell_type": "code",
   "execution_count": null,
   "id": "fe085411",
   "metadata": {},
   "outputs": [],
   "source": [
    "for num in range(1, 51):\n",
    "    \n",
    "    if num % 3 != 0 and num % 5 != 0:\n",
    "        continue  \n",
    "    \n",
    "    print(num)\n"
   ]
  },
  {
   "cell_type": "markdown",
   "id": "e5115bcb",
   "metadata": {},
   "source": [
    "96. Positive Number Sum: Write a Python program that takes positive numbers as input until a negative number is entered. Then, calculate and print the sum of all positive numbers entered. Use a `while` loop and `break` to exit the loop when a negative number is encountered."
   ]
  },
  {
   "cell_type": "code",
   "execution_count": null,
   "id": "9b801e57",
   "metadata": {},
   "outputs": [],
   "source": [
    "total = 0\n",
    "\n",
    "\n",
    "while True:\n",
    "    \n",
    "    num = float(input(\"Enter a positive number (or a negative number to quit): \"))\n",
    "\n",
    "    \n",
    "    if num >= 0:\n",
    "        total += num  \n",
    "    else:\n",
    "        break \n",
    "\n",
    "\n",
    "print(f\"Sum of positive numbers entered: {total}\")"
   ]
  },
  {
   "cell_type": "markdown",
   "id": "bd6ed77d",
   "metadata": {},
   "source": [
    "97. Word Palindrome Checker: Write a Python program that takes a word as input and checks if it is a palindrome (reads the same forwards and backward). Use `continue` to skip checking the word if its length is less than 3 characters."
   ]
  },
  {
   "cell_type": "code",
   "execution_count": null,
   "id": "6e7389d5",
   "metadata": {},
   "outputs": [],
   "source": [
    "def is_palindrome(word):\n",
    "    return word == word[::-1]\n",
    "\n",
    "while True:\n",
    "   \n",
    "    word = input(\"Enter a word (or type 'quit' to exit): \")\n",
    "\n",
    "  \n",
    "    if word.lower() == 'quit':\n",
    "        break  \n",
    "\n",
    "    \n",
    "    if len(word) < 3:\n",
    "        print(\"Word length is less than 3 characters. Skipping...\")\n",
    "        continue  \n",
    "\n",
    "    \n",
    "    if is_palindrome(word.lower()):\n",
    "        print(f\"'{word}' is a palindrome.\")\n",
    "    else:\n",
    "        print(f\"'{word}' is not a palindrome.\")"
   ]
  },
  {
   "cell_type": "markdown",
   "id": "11623c50",
   "metadata": {},
   "source": [
    "98. Odd Number Finder: Write a Python program to find the first odd number from a list of integers. Use a `for` loop and `break` to stop the loop when the first odd number is found."
   ]
  },
  {
   "cell_type": "markdown",
   "id": "460dc0dc",
   "metadata": {},
   "source": [
    "99. Number Guessing Game: Write a Python program that generates a random number between 1 and 100 and lets the user guess the number. Use a `while` loop, `break` when the correct number is guessed, and `continue` to keep prompting the user until they guess correctly."
   ]
  },
  {
   "cell_type": "code",
   "execution_count": null,
   "id": "05f27033",
   "metadata": {},
   "outputs": [],
   "source": [
    "import random\n",
    "\n",
    "target_number = random.randint(1, 100)\n",
    "\n",
    "while True:\n",
    "   \n",
    "    try:\n",
    "        user_guess = int(input(\"Guess the number between 1 and 100: \"))\n",
    "\n",
    "        \n",
    "        if user_guess == target_number:\n",
    "            print(f\"Congratulations! You guessed the correct number: {target_number}\")\n",
    "            break  \n",
    "        elif user_guess < target_number:\n",
    "            print(\"Try a higher number.\")\n",
    "        else:\n",
    "            print(\"Try a lower number.\")\n",
    "    except ValueError:\n",
    "        print(\"Invalid input. Please enter a valid number.\")\n",
    "        continue"
   ]
  },
  {
   "cell_type": "markdown",
   "id": "76f3b3ed",
   "metadata": {},
   "source": [
    "100. Vowel Counter: Write a Python program that takes a string as input and counts the number of vowels (a, e, i, o, u) in it. Use a `for` loop and `continue` to skip counting non-vowel characters."
   ]
  },
  {
   "cell_type": "code",
   "execution_count": null,
   "id": "c9704131",
   "metadata": {},
   "outputs": [],
   "source": [
    "input_string = input(\"Enter a string: \")\n",
    "\n",
    "\n",
    "vowel_count = 0\n",
    "\n",
    "for char in input_string:\n",
    "   \n",
    "    char = char.lower()\n",
    "    \n",
    "    \n",
    "    if char in 'aeiou':\n",
    "        vowel_count += 1\n",
    "        continue  \n",
    "\n",
    "\n",
    "print(f\"Number of vowels in the string: {vowel_count}\")"
   ]
  },
  {
   "cell_type": "markdown",
   "id": "d6ba3029",
   "metadata": {},
   "source": [
    "101. Unique Characters: Write a Python program that takes a string as input and checks if it contains all unique characters (no character repeats). Use a `for` loop and `break` when a character repeats."
   ]
  },
  {
   "cell_type": "code",
   "execution_count": null,
   "id": "eb708eea",
   "metadata": {},
   "outputs": [],
   "source": [
    "input_string = input(\"Enter a string: \")\n",
    "\n",
    "unique_characters = set()\n",
    "\n",
    "\n",
    "for char in input_string:\n",
    "\n",
    "    if char in unique_characters:\n",
    "        print(\"The string does not contain all unique characters.\")\n",
    "        break  \n",
    "    else:\n",
    "        unique_characters.add(char)\n",
    "\n",
    "else:\n",
    "    print(\"The string contains all unique characters.\")"
   ]
  },
  {
   "cell_type": "markdown",
   "id": "eaabe829",
   "metadata": {},
   "source": [
    "# Functions Problems:"
   ]
  },
  {
   "cell_type": "markdown",
   "id": "c48282cd",
   "metadata": {},
   "source": [
    "102. Factorial Calculator: Write a Python function called `factorial` that takes an integer as input and returns its factorial. Test the function with different values."
   ]
  },
  {
   "cell_type": "code",
   "execution_count": null,
   "id": "4a02ac48",
   "metadata": {},
   "outputs": [],
   "source": [
    "def factorial(n):\n",
    "    if n < 0:\n",
    "        return \"Factorial is undefined for negative numbers\"\n",
    "    elif n == 0:\n",
    "        return 1\n",
    "    else:\n",
    "        result = 1\n",
    "        for i in range(1, n + 1):\n",
    "            result *= i\n",
    "        return result\n",
    "print(factorial(5))  \n",
    "print(factorial(0))\n",
    "print(factorial(10))"
   ]
  },
  {
   "cell_type": "markdown",
   "id": "e7e58690",
   "metadata": {},
   "source": [
    "103. Palindrome Checker: Write a Python function called `is_palindrome` that takes a string as input and returns `True` if it is a palindrome and `False` otherwise. Test the function with different words."
   ]
  },
  {
   "cell_type": "code",
   "execution_count": null,
   "id": "0ca5b357",
   "metadata": {},
   "outputs": [],
   "source": [
    "def is_palindrome(word):\n",
    "    word = word.replace(\" \", \"\").lower()\n",
    "    return word == word[::-1]\n",
    "\n",
    "print(is_palindrome(\"racecar\"))  \n",
    "print(is_palindrome(\"hello\"))    \n",
    "print(is_palindrome(\"A man a plan a canal Panama\")) "
   ]
  },
  {
   "cell_type": "markdown",
   "id": "c5c304d6",
   "metadata": {},
   "source": [
    "104. Even or Odd Checker: Write a Python function called `even_or_odd` that takes an integer as input and returns “Even” if the number is even and “Odd” if the number is odd. Test the function with different numbers."
   ]
  },
  {
   "cell_type": "code",
   "execution_count": null,
   "id": "c3d87a5a",
   "metadata": {},
   "outputs": [],
   "source": [
    "def even_or_odd(number):\n",
    "    if number % 2 == 0:\n",
    "        return \"Even\"\n",
    "    else:\n",
    "        return \"Odd\"\n",
    "\n",
    "\n",
    "print(even_or_odd(4))  \n",
    "print(even_or_odd(7))   \n",
    "print(even_or_odd(0))   \n",
    "print(even_or_odd(-3))  "
   ]
  },
  {
   "cell_type": "markdown",
   "id": "72c51573",
   "metadata": {},
   "source": [
    "105. List Sum Calculator: Write a Python function called `list_sum` that takes a list of integers as input and returns the sum of all elements in the list. Test the function with different lists."
   ]
  },
  {
   "cell_type": "code",
   "execution_count": null,
   "id": "cf6c0b82",
   "metadata": {},
   "outputs": [],
   "source": [
    "def list_sum(numbers):\n",
    "    total = 0\n",
    "    for number in numbers:\n",
    "        total += number\n",
    "    return total\n",
    "\n",
    "print(list_sum([1, 2, 3, 4, 5]))     \n",
    "print(list_sum([-10, 10, -20, 20]))    \n",
    "print(list_sum([100, 200, 300, 400]))  "
   ]
  },
  {
   "cell_type": "markdown",
   "id": "01fabd42",
   "metadata": {},
   "source": [
    "106. Greatest Common Divisor (GCD) Calculator: Write a Python function called `gcd` that takes two integers as input and returns their greatest common divisor. Test the function with different pairs of numbers."
   ]
  },
  {
   "cell_type": "code",
   "execution_count": null,
   "id": "362819e3",
   "metadata": {},
   "outputs": [],
   "source": [
    "def gcd(a, b):\n",
    "    while b:\n",
    "        a, b = b, a % b\n",
    "    return abs(a)\n",
    "print(gcd(48, 18))  \n",
    "print(gcd(60, 48))  \n",
    "print(gcd(17, 8))   \n"
   ]
  },
  {
   "cell_type": "markdown",
   "id": "5f1f0ac4",
   "metadata": {},
   "source": [
    "107. Leap Year Checker: Write a Python function called `is_leap_year` that takes a year as input and returns `True` if it is a leap year and `False` otherwise. Test the function with different years."
   ]
  },
  {
   "cell_type": "code",
   "execution_count": null,
   "id": "ac959290",
   "metadata": {},
   "outputs": [],
   "source": [
    "def is_leap_year(year):\n",
    "    if (year % 4 == 0 and year % 100 != 0) or (year % 400 == 0):\n",
    "        return True\n",
    "    else:\n",
    "        return False\n",
    "print(is_leap_year(2000))  \n",
    "print(is_leap_year(2024))  \n",
    "print(is_leap_year(1900))  \n",
    "print(is_leap_year(2022))  "
   ]
  },
  {
   "cell_type": "markdown",
   "id": "ea4ae33b",
   "metadata": {},
   "source": [
    "Nested Functions Problems:"
   ]
  },
  {
   "cell_type": "markdown",
   "id": "664acf31",
   "metadata": {},
   "source": [
    "108. Math Operations: Write a Python function called `math_operations` that takes three numbers and a string representing an operation (‘add’, ‘subtract’, ‘multiply’, or ‘divide’). The function should return the result of the specified operation on the three numbers. Implement the math operations as nested functions."
   ]
  },
  {
   "cell_type": "code",
   "execution_count": null,
   "id": "ae20a344",
   "metadata": {},
   "outputs": [],
   "source": [
    "def math_operations(num1, num2, num3, operation):\n",
    "    def add(a, b, c):\n",
    "        return a + b + c\n",
    "\n",
    "    def subtract(a, b, c):\n",
    "        return a - b - c\n",
    "\n",
    "    def multiply(a, b, c):\n",
    "        return a * b * c\n",
    "\n",
    "    def divide(a, b, c):\n",
    "        if b == 0 or c == 0:\n",
    "            return \"Division by zero is not allowed\"\n",
    "        return a / b / c\n",
    "\n",
    "   \n",
    "    operation = operation.lower()\n",
    "\n",
    "\n",
    "    if operation == 'add':\n",
    "        return add(num1, num2, num3)\n",
    "    elif operation == 'subtract':\n",
    "        return subtract(num1, num2, num3)\n",
    "    elif operation == 'multiply':\n",
    "        return multiply(num1, num2, num3)\n",
    "    elif operation == 'divide':\n",
    "        return divide(num1, num2, num3)\n",
    "    else:\n",
    "        return \"Invalid operation\"\n",
    "\n",
    "\n",
    "print(math_operations(5, 3, 2, 'add'))      \n",
    "print(math_operations(10, 4, 2, 'subtract'))  \n",
    "print(math_operations(2, 3, 4, 'multiply'))  \n",
    "print(math_operations(20, 5, 2, 'divide'))    \n",
    "print(math_operations(5, 3, 2, 'power'))      "
   ]
  },
  {
   "cell_type": "markdown",
   "id": "90887d71",
   "metadata": {},
   "source": [
    "109. Greeting Generator: Write a Python function called `greeting_generator` that takes a name as input and returns a greeting message using nested functions. The greeting message should be customizable (e.g., “Hello, {name}! How are you today?”)."
   ]
  },
  {
   "cell_type": "code",
   "execution_count": null,
   "id": "077f9598",
   "metadata": {},
   "outputs": [],
   "source": [
    "def greeting_generator(greeting):\n",
    "    def generate_greeting(name):\n",
    "        return f\"{greeting}, {name}! How are you today?\"\n",
    "\n",
    "    return generate_greeting\n",
    "\n",
    "\n",
    "custom_greeting = greeting_generator(\"Good morning\")\n",
    "\n",
    "\n",
    "print(custom_greeting(\"Alice\")) \n",
    "print(custom_greeting(\"Bob\"))   "
   ]
  },
  {
   "cell_type": "markdown",
   "id": "21a8dcfb",
   "metadata": {},
   "source": [
    "110. Temperature Converter: Write a Python function called `temperature_converter` that takes a temperature value and a string representing the scale (‘C’ for Celsius or ‘F’ for Fahrenheit) as input. The function should convert the temperature from one scale to the other using nested functions and return the converted value."
   ]
  },
  {
   "cell_type": "code",
   "execution_count": null,
   "id": "6ef4668b",
   "metadata": {},
   "outputs": [],
   "source": [
    "def temperature_converter(temperature, scale):\n",
    "    def celsius_to_fahrenheit(celsius):\n",
    "        return (celsius * 9/5) + 32\n",
    "\n",
    "    def fahrenheit_to_celsius(fahrenheit):\n",
    "        return (fahrenheit - 32) * 5/9\n",
    "\n",
    "    scale = scale.upper()\n",
    "\n",
    "    if scale == 'C':\n",
    "       \n",
    "        return celsius_to_fahrenheit(temperature)\n",
    "    elif scale == 'F':\n",
    "        \n",
    "        return fahrenheit_to_celsius(temperature)\n",
    "    else:\n",
    "        return \"Invalid scale (use 'C' for Celsius or 'F' for Fahrenheit)\"\n",
    "\n",
    "\n",
    "print(temperature_converter(32, 'C')) \n",
    "print(temperature_converter(0, 'F'))  \n",
    "print(temperature_converter(100, 'c')) \n",
    "print(temperature_converter(212, 'f'))\n",
    "print(temperature_converter(20, 'K')) "
   ]
  },
  {
   "cell_type": "markdown",
   "id": "9e787ef3",
   "metadata": {},
   "source": [
    "Recursion: "
   ]
  },
  {
   "cell_type": "markdown",
   "id": "85aab2a4",
   "metadata": {},
   "source": [
    "111. Factorial Calculation: Write a recursive Python function called `factorial` that takes a non-negative integer as input and returns its factorial."
   ]
  },
  {
   "cell_type": "code",
   "execution_count": null,
   "id": "a9fe97b5",
   "metadata": {},
   "outputs": [],
   "source": [
    "def factorial(n):\n",
    "    if n < 0:\n",
    "        return \"Factorial is undefined for negative numbers\"\n",
    "    elif n == 0 or n == 1:\n",
    "        return 1\n",
    "    else:\n",
    "        return n * factorial(n - 1)\n",
    "\n",
    "\n",
    "print(factorial(5))  \n",
    "print(factorial(0))  \n",
    "print(factorial(10))  "
   ]
  },
  {
   "cell_type": "markdown",
   "id": "84f9603a",
   "metadata": {},
   "source": [
    "112. Fibonacci Series: Write a recursive Python function called `Fibonacci` that takes an integer N as input and returns the Nth number in the Fibonacci series. The Fibonacci series is defined as follows: F(0) = 0, F(1) = 1, and F(n) = F(n-1) + F(n-2) for n > 1."
   ]
  },
  {
   "cell_type": "code",
   "execution_count": null,
   "id": "4b15f7e5",
   "metadata": {},
   "outputs": [],
   "source": [
    "def Fibonacci(n):\n",
    "    if n <= 0:\n",
    "        return 0\n",
    "    elif n == 1:\n",
    "        return 1\n",
    "    else:\n",
    "        return Fibonacci(n - 1) + Fibonacci(n - 2)\n",
    "\n",
    "n = int(input(\"Enter the value of N: \"))\n",
    "result = Fibonacci(n)\n",
    "print(f\"The {n}th number in the Fibonacci series is: {result}\")\n"
   ]
  },
  {
   "cell_type": "markdown",
   "id": "2b230d5d",
   "metadata": {},
   "source": [
    "113. The sum of Digits: Write a recursive Python function called `sum_of_digits` that takes an integer as input and returns the sum of its digits."
   ]
  },
  {
   "cell_type": "code",
   "execution_count": null,
   "id": "aabd17dd",
   "metadata": {},
   "outputs": [],
   "source": [
    "def sum_of_digits(n):\n",
    "   \n",
    "    if n < 10:\n",
    "        return n\n",
    "    else:\n",
    "   \n",
    "        last_digit = n % 10\n",
    "       \n",
    "        remaining_digits = n // 10\n",
    "       \n",
    "        return last_digit + sum_of_digits(remaining_digits)\n",
    "n = int(input(\"Enter an integer: \"))\n",
    "result = sum_of_digits(n)\n",
    "print(f\"The sum of digits in {n} is: {result}\")\n"
   ]
  },
  {
   "cell_type": "markdown",
   "id": "8fce5485",
   "metadata": {},
   "source": [
    "114. Binary Search: Write a recursive Python function called `binary_search` that takes a sorted list and a target value as input and returns the index of the target value in the list using binary search. If the target value is not in the list, return -1."
   ]
  },
  {
   "cell_type": "code",
   "execution_count": null,
   "id": "d2b0af34",
   "metadata": {},
   "outputs": [],
   "source": [
    "def binary_search(sorted_list, target, left=0, right=None):\n",
    "  \n",
    "    if right is None:\n",
    "        right = len(sorted_list) - 1\n",
    "\n",
    "\n",
    "    if left > right:\n",
    "        return -1\n",
    "\n",
    "    mid = (left + right) // 2\n",
    "\n",
    "    if sorted_list[mid] == target:\n",
    "        return mid\n",
    "\n",
    "    elif sorted_list[mid] > target:\n",
    "        return binary_search(sorted_list, target, left, mid - 1)\n",
    "\n",
    "    else:\n",
    "        return binary_search(sorted_list, target, mid + 1, right)\n",
    "\n",
    "sorted_list = [1, 3, 5, 7, 9, 11, 13, 15, 17, 19]\n",
    "target = int(input(\"Enter the target value to search for: \"))\n",
    "index = binary_search(sorted_list, target)\n",
    "\n",
    "if index != -1:\n",
    "    print(f\"The target value {target} is found at index {index}.\")\n",
    "else:\n",
    "    print(f\"The target value {target} is not in the list.\")\n"
   ]
  },
  {
   "cell_type": "markdown",
   "id": "2e72b33e",
   "metadata": {},
   "source": [
    "115. Power Calculation: Write a recursive Python function called `power` that takes two positive integers, base and exponent, as input and returns the value of base raised to the exponent."
   ]
  },
  {
   "cell_type": "code",
   "execution_count": null,
   "id": "41377aa5",
   "metadata": {},
   "outputs": [],
   "source": [
    "def power(base, exponent):\n",
    " \n",
    "    if exponent == 0:\n",
    "        return 1\n",
    "\n",
    "    else:\n",
    "        return base * power(base, exponent - 1)\n",
    "\n",
    "base = int(input(\"Enter the base (a positive integer): \"))\n",
    "exponent = int(input(\"Enter the exponent (a positive integer): \"))\n",
    "\n",
    "result = power(base, exponent)\n",
    "print(f\"{base} raised to the power of {exponent} is: {result}\")\n"
   ]
  },
  {
   "cell_type": "code",
   "execution_count": null,
   "id": "df5d9386",
   "metadata": {},
   "outputs": [],
   "source": []
  }
 ],
 "metadata": {
  "kernelspec": {
   "display_name": "Python 3 (ipykernel)",
   "language": "python",
   "name": "python3"
  },
  "language_info": {
   "codemirror_mode": {
    "name": "ipython",
    "version": 3
   },
   "file_extension": ".py",
   "mimetype": "text/x-python",
   "name": "python",
   "nbconvert_exporter": "python",
   "pygments_lexer": "ipython3",
   "version": "3.9.13"
  }
 },
 "nbformat": 4,
 "nbformat_minor": 5
}
