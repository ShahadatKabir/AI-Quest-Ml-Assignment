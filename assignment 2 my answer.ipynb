{
 "cells": [
  {
   "cell_type": "markdown",
   "id": "2296d540",
   "metadata": {},
   "source": [
    "# 1.Take values of the length & breadth of a rectangle from user input and check if it is square or not."
   ]
  },
  {
   "cell_type": "code",
   "execution_count": 1,
   "id": "5d9b5679",
   "metadata": {},
   "outputs": [
    {
     "name": "stdout",
     "output_type": "stream",
     "text": [
      "Enter the length of the rectangle: 4\n",
      "Enter the breadth of the rectangle: 4\n",
      "It's a square.\n"
     ]
    }
   ],
   "source": [
    "length = float(input(\"Enter the length of the rectangle: \"))\n",
    "breadth = float(input(\"Enter the breadth of the rectangle: \"))\n",
    "if length == breadth:\n",
    "    print(\"It's a square.\")\n",
    "else:\n",
    "    print(\"It's a rectangle.\")"
   ]
  },
  {
   "cell_type": "markdown",
   "id": "de65eb00",
   "metadata": {},
   "source": [
    "# 2.Take three integer values from the user and print the greatest among them."
   ]
  },
  {
   "cell_type": "code",
   "execution_count": 4,
   "id": "497525e1",
   "metadata": {},
   "outputs": [
    {
     "name": "stdout",
     "output_type": "stream",
     "text": [
      "Enter first integer: 2\n",
      "Enter second integer: 3\n",
      "Enter third integer: 4\n",
      "The greatest number among 2 , 3 and 4 is: 4\n"
     ]
    }
   ],
   "source": [
    "num1 = int(input(\"Enter first integer: \"))\n",
    "num2 = int(input(\"Enter second integer: \"))\n",
    "num3 = int(input(\"Enter third integer: \"))\n",
    "greatest = max(num1, num2, num3)\n",
    "print(\"The greatest number among\", num1, \",\", num2, \"and\", num3, \"is:\", greatest)"
   ]
  },
  {
   "cell_type": "markdown",
   "id": "2a1dbd73",
   "metadata": {},
   "source": [
    "# 3.A student will not be allowed to sit in an exam if his/her attendance is less than 75%."
   ]
  },
  {
   "cell_type": "code",
   "execution_count": 5,
   "id": "27d9253b",
   "metadata": {},
   "outputs": [
    {
     "name": "stdout",
     "output_type": "stream",
     "text": [
      "Enter the number of classes: 10\n",
      "Enter the number of classes attended: 6\n",
      "The student is not allowed to sit in the exam (attendance: 60.0 %).\n"
     ]
    }
   ],
   "source": [
    "total_classes = int(input(\"Enter the number of classes: \"))\n",
    "attended_classes = int(input(\"Enter the number of classes attended: \"))\n",
    "\n",
    "attendance_percentage = (attended_classes / total_classes) * 100\n",
    "\n",
    "if attendance_percentage >= 75:\n",
    "    print(\"The student is allowed to sit in the exam.\")\n",
    "else:\n",
    "    print(\"The student is not allowed to sit in the exam (attendance:\", attendance_percentage, \"%).\")\n"
   ]
  },
  {
   "cell_type": "markdown",
   "id": "254ea159",
   "metadata": {},
   "source": [
    "# 4.A school has the following rules for the grading system:\n",
    "Below 25 – F, 25 to 44 – E, 45 to 49 – D, 50 to 59 – C, 60 to 79 – B, 80 to 89 - A, Above 90 - A+\n",
    "Now, Ask the user to enter marks and print the corresponding grade."
   ]
  },
  {
   "cell_type": "code",
   "execution_count": 6,
   "id": "7c247df1",
   "metadata": {},
   "outputs": [
    {
     "name": "stdout",
     "output_type": "stream",
     "text": [
      "Enter the marks: 70\n",
      "The corresponding grade for 70.0 marks is: B\n"
     ]
    }
   ],
   "source": [
    "marks = float(input(\"Enter the marks: \"))\n",
    "if marks < 25:\n",
    "    grade = \"F\"\n",
    "elif marks < 45:\n",
    "    grade = \"E\"\n",
    "elif marks < 50:\n",
    "    grade = \"D\"\n",
    "elif marks < 60:\n",
    "    grade = \"C\"\n",
    "elif marks < 80:\n",
    "    grade = \"B\"\n",
    "elif marks < 90:\n",
    "    grade = \"A\"\n",
    "else:\n",
    "    grade = \"A+\"\n",
    "print(\"The corresponding grade for\", marks, \"marks is:\", grade)\n"
   ]
  },
  {
   "cell_type": "markdown",
   "id": "1af60360",
   "metadata": {},
   "source": [
    "# 5.Print the following pattern using for and while loop.\n",
    "1 2 3 4 5 6 7\n",
    "1 2 3 4 5 6\n",
    "1 2 3 4 5\n",
    "1 2 3 4"
   ]
  },
  {
   "cell_type": "markdown",
   "id": "16f92c51",
   "metadata": {},
   "source": [
    "# For loop"
   ]
  },
  {
   "cell_type": "code",
   "execution_count": 7,
   "id": "1acf9083",
   "metadata": {},
   "outputs": [
    {
     "name": "stdout",
     "output_type": "stream",
     "text": [
      "1 2 3 4 \n",
      "1 2 3 \n",
      "1 2 \n",
      "1 \n"
     ]
    }
   ],
   "source": [
    "for i in range(4, 0, -1):\n",
    "    for j in range(1, i+1):\n",
    "        print(j, end=' ')\n",
    "    print()"
   ]
  },
  {
   "cell_type": "markdown",
   "id": "6c4d88d0",
   "metadata": {},
   "source": [
    "# While Loop"
   ]
  },
  {
   "cell_type": "code",
   "execution_count": 8,
   "id": "39456491",
   "metadata": {},
   "outputs": [
    {
     "name": "stdout",
     "output_type": "stream",
     "text": [
      "1 2 3 4 \n",
      "1 2 3 \n",
      "1 2 \n",
      "1 \n"
     ]
    }
   ],
   "source": [
    "i = 4\n",
    "while i >= 1:\n",
    "    j = 1\n",
    "    while j <= i:\n",
    "        print(j, end=' ')\n",
    "        j += 1\n",
    "    print()\n",
    "    i -= 1"
   ]
  },
  {
   "cell_type": "markdown",
   "id": "47ebef8e",
   "metadata": {},
   "source": [
    "# 6.Display numbers from -100 to -10 using for loop."
   ]
  },
  {
   "cell_type": "code",
   "execution_count": 9,
   "id": "ac3c196b",
   "metadata": {},
   "outputs": [
    {
     "name": "stdout",
     "output_type": "stream",
     "text": [
      "-100 -99 -98 -97 -96 -95 -94 -93 -92 -91 -90 -89 -88 -87 -86 -85 -84 -83 -82 -81 -80 -79 -78 -77 -76 -75 -74 -73 -72 -71 -70 -69 -68 -67 -66 -65 -64 -63 -62 -61 -60 -59 -58 -57 -56 -55 -54 -53 -52 -51 -50 -49 -48 -47 -46 -45 -44 -43 -42 -41 -40 -39 -38 -37 -36 -35 -34 -33 -32 -31 -30 -29 -28 -27 -26 -25 -24 -23 -22 -21 -20 -19 -18 -17 -16 -15 -14 -13 -12 -11 -10 "
     ]
    }
   ],
   "source": [
    "for num in range(-100, -9):\n",
    "    print(num, end=' ')"
   ]
  },
  {
   "cell_type": "markdown",
   "id": "55a23223",
   "metadata": {},
   "source": [
    "# 7.Write a program to sum all prime numbers within a range of 10 to 1000."
   ]
  },
  {
   "cell_type": "code",
   "execution_count": 11,
   "id": "b38d03c3",
   "metadata": {},
   "outputs": [
    {
     "name": "stdout",
     "output_type": "stream",
     "text": [
      "The sum of prime numbers from 10 to 1000 is: 76110\n"
     ]
    }
   ],
   "source": [
    "def is_prime(number):\n",
    "    if number <= 1:\n",
    "        return False\n",
    "    if number <= 3:\n",
    "        return True\n",
    "    if number % 2 == 0 or number % 3 == 0:\n",
    "        return False\n",
    "    i = 5\n",
    "    while i * i <= number:\n",
    "        if number % i == 0 or number % (i + 2) == 0:\n",
    "            return False\n",
    "        i += 6\n",
    "    return True\n",
    "\n",
    "lower_limit = 10\n",
    "upper_limit = 1000\n",
    "prime_sum = 0\n",
    "\n",
    "for num in range(lower_limit, upper_limit + 1):\n",
    "    if is_prime(num):\n",
    "        prime_sum += num\n",
    "\n",
    "print(\"The sum of prime numbers from\", lower_limit, \"to\", upper_limit, \"is:\", prime_sum)"
   ]
  },
  {
   "cell_type": "markdown",
   "id": "78669bd0",
   "metadata": {},
   "source": [
    "# 8.Find the factorial of an n! (Hint, n=7: 7*6*5*4*3*2*1)."
   ]
  },
  {
   "cell_type": "code",
   "execution_count": 2,
   "id": "feb6fae5",
   "metadata": {},
   "outputs": [
    {
     "name": "stdout",
     "output_type": "stream",
     "text": [
      "The factorial of 7 is: 5040\n"
     ]
    }
   ],
   "source": [
    "def factorial(n):\n",
    "    if n == 0 or n == 1:\n",
    "        return 1\n",
    "    else:\n",
    "        return n * factorial(n - 1)\n",
    "\n",
    "n = 7\n",
    "result = factorial(n)\n",
    "print(f\"The factorial of {n} is: {result}\")"
   ]
  },
  {
   "cell_type": "markdown",
   "id": "f884cb0f",
   "metadata": {},
   "source": [
    "# 9.Reverse a given integer number 27956240710."
   ]
  },
  {
   "cell_type": "code",
   "execution_count": 3,
   "id": "f393290a",
   "metadata": {},
   "outputs": [
    {
     "name": "stdout",
     "output_type": "stream",
     "text": [
      "1704265972\n"
     ]
    }
   ],
   "source": [
    "number = 27956240710\n",
    "reversed_number = int(str(number)[::-1])\n",
    "print(reversed_number)"
   ]
  },
  {
   "cell_type": "markdown",
   "id": "92eb3e73",
   "metadata": {},
   "source": [
    "# 10. Print the following pattern using for and while loop.\n",
    "# # #\n",
    "# # # #\n",
    "# # #\n",
    "# #"
   ]
  },
  {
   "cell_type": "markdown",
   "id": "1c2eb1b0",
   "metadata": {},
   "source": [
    "# For loop\n"
   ]
  },
  {
   "cell_type": "code",
   "execution_count": 7,
   "id": "87849cbb",
   "metadata": {},
   "outputs": [
    {
     "name": "stdout",
     "output_type": "stream",
     "text": [
      "# # #\n",
      "# # #\n",
      "# # # #\n",
      "# # #\n"
     ]
    }
   ],
   "source": [
    "for i in range(4):\n",
    "    if i == 1:\n",
    "        print(\"# # #\")\n",
    "    elif i == 2:\n",
    "        print(\"# # # #\")\n",
    "    else:\n",
    "        print(\"# # #\")\n"
   ]
  },
  {
   "cell_type": "markdown",
   "id": "fb0dc1eb",
   "metadata": {},
   "source": [
    "# while  loopp"
   ]
  },
  {
   "cell_type": "code",
   "execution_count": 8,
   "id": "da35cd23",
   "metadata": {},
   "outputs": [
    {
     "name": "stdout",
     "output_type": "stream",
     "text": [
      "# # #\n",
      "# # #\n",
      "# # # #\n",
      "# # #\n"
     ]
    }
   ],
   "source": [
    "i = 0\n",
    "while i < 4:\n",
    "    if i == 1:\n",
    "        print(\"# # #\")\n",
    "    elif i == 2:\n",
    "        print(\"# # # #\")\n",
    "    else:\n",
    "        print(\"# # #\")\n",
    "    i += 1\n"
   ]
  },
  {
   "cell_type": "markdown",
   "id": "3b0a58cb",
   "metadata": {},
   "source": [
    "# 11. Display the Fibonacci series of 15 elements using the for and while loop."
   ]
  },
  {
   "cell_type": "markdown",
   "id": "31a97232",
   "metadata": {},
   "source": [
    "# For loop"
   ]
  },
  {
   "cell_type": "code",
   "execution_count": 9,
   "id": "fe4ac0c9",
   "metadata": {},
   "outputs": [
    {
     "name": "stdout",
     "output_type": "stream",
     "text": [
      "0 1 1 2 3 5 8 13 21 34 55 89 144 233 377 "
     ]
    }
   ],
   "source": [
    "n = 15\n",
    "fibonacci = [0, 1]\n",
    "\n",
    "for i in range(2, n):\n",
    "    next_element = fibonacci[i - 1] + fibonacci[i - 2]\n",
    "    fibonacci.append(next_element)\n",
    "\n",
    "for num in fibonacci:\n",
    "    print(num, end=\" \")"
   ]
  },
  {
   "cell_type": "markdown",
   "id": "2a8bc729",
   "metadata": {},
   "source": [
    "# While loop"
   ]
  },
  {
   "cell_type": "code",
   "execution_count": 10,
   "id": "e7b3fa12",
   "metadata": {},
   "outputs": [
    {
     "name": "stdout",
     "output_type": "stream",
     "text": [
      "0 1 1 2 3 5 8 13 21 34 55 89 144 233 377 "
     ]
    }
   ],
   "source": [
    "n = 15\n",
    "fibonacci = [0, 1]\n",
    "i = 2\n",
    "\n",
    "while i < n:\n",
    "    next_element = fibonacci[i - 1] + fibonacci[i - 2]\n",
    "    fibonacci.append(next_element)\n",
    "    i += 1\n",
    "\n",
    "for num in fibonacci:\n",
    "    print(num, end=\" \")"
   ]
  },
  {
   "cell_type": "markdown",
   "id": "1a921d1c",
   "metadata": {},
   "source": [
    "# Python inbuilt Data Structure:\n",
    "12. Remove 2 and add 3 to the list and replace True with False.\n",
    "Li = [1,3,5, [2,3], True]\n",
    "Output = [1,3,5, [3,3], False]"
   ]
  },
  {
   "cell_type": "code",
   "execution_count": 11,
   "id": "8a264a4f",
   "metadata": {},
   "outputs": [
    {
     "name": "stdout",
     "output_type": "stream",
     "text": [
      "[1, 3, 5, [3, 3], False]\n"
     ]
    }
   ],
   "source": [
    "Li = [1, 3, 5, [2, 3], True]\n",
    "\n",
    "Li[3][0] = 3\n",
    "\n",
    "Li[-1] = False\n",
    "\n",
    "print(Li)\n"
   ]
  },
  {
   "cell_type": "markdown",
   "id": "9e084d07",
   "metadata": {},
   "source": [
    "# 13. Find the intersection (common) of two sets.\n",
    "S1 = {1,4,6,8}\n",
    "S2 = {True, 1,2,10}"
   ]
  },
  {
   "cell_type": "code",
   "execution_count": 12,
   "id": "15cf4851",
   "metadata": {},
   "outputs": [
    {
     "name": "stdout",
     "output_type": "stream",
     "text": [
      "{True}\n"
     ]
    }
   ],
   "source": [
    "S1 = {1, 4, 6, 8}\n",
    "S2 = {True, 1, 2, 10}\n",
    "\n",
    "intersection_result = S1.intersection(S2)\n",
    "print(intersection_result)"
   ]
  },
  {
   "cell_type": "markdown",
   "id": "e36ce862",
   "metadata": {},
   "source": [
    "# 14. Input a list from the user then Remove duplicates from a list and create a set and find the max\n",
    "number. User_input = [1,9,3,4,5,200,54]"
   ]
  },
  {
   "cell_type": "code",
   "execution_count": 2,
   "id": "f3e3b674",
   "metadata": {},
   "outputs": [
    {
     "name": "stdout",
     "output_type": "stream",
     "text": [
      "Enter a list of numbers separated by spaces: 1 9 3 4 5 200 54\n",
      "Original List: [1, 9, 3, 4, 5, 200, 54]\n",
      "List after removing duplicates: [1, 3, 4, 5, 200, 9, 54]\n",
      "Maximum number: 200\n"
     ]
    }
   ],
   "source": [
    "user_input = input(\"Enter a list of numbers separated by spaces: \")\n",
    "user_list = [int(x) for x in user_input.split()]\n",
    "\n",
    "unique_set = set(user_list)\n",
    "\n",
    "max_number = max(unique_set)\n",
    "\n",
    "print(\"Original List:\", user_list)\n",
    "print(\"List after removing duplicates:\", list(unique_set))\n",
    "print(\"Maximum number:\", max_number)\n"
   ]
  },
  {
   "cell_type": "markdown",
   "id": "f51bdafa",
   "metadata": {},
   "source": [
    "# 15. Rename the key of a dictionary.\n",
    "Dict = { \"name\": \"Shakil\", \"age\":27, \"city\": “Berlin”, \"country\": \"Germany\" }\n",
    "Write a program to rename a key ‘country’ to a ‘region’ in the following dictionary."
   ]
  },
  {
   "cell_type": "code",
   "execution_count": 3,
   "id": "fe1fa9f3",
   "metadata": {},
   "outputs": [
    {
     "name": "stdout",
     "output_type": "stream",
     "text": [
      "{'name': 'Shakil', 'age': 27, 'city': 'Berlin', 'region': 'Germany'}\n"
     ]
    }
   ],
   "source": [
    "Dict = {\"name\": \"Shakil\", \"age\": 27, \"city\": \"Berlin\", \"country\": \"Germany\"}\n",
    "\n",
    "Dict['region'] = Dict.pop('country')\n",
    "\n",
    "print(Dict)\n"
   ]
  },
  {
   "cell_type": "markdown",
   "id": "2ed5b270",
   "metadata": {},
   "source": [
    "# 16. Creating a data frame using the list.\n",
    "num = [10,100,300] (column name is number)"
   ]
  },
  {
   "cell_type": "code",
   "execution_count": 4,
   "id": "8b944cf4",
   "metadata": {},
   "outputs": [
    {
     "name": "stdout",
     "output_type": "stream",
     "text": [
      "   number\n",
      "0      10\n",
      "1     100\n",
      "2     300\n"
     ]
    }
   ],
   "source": [
    "import pandas as pd\n",
    "\n",
    "num = [10, 100, 300]\n",
    "data = {'number': num}\n",
    "\n",
    "df = pd.DataFrame(data)\n",
    "\n",
    "print(df)"
   ]
  },
  {
   "cell_type": "markdown",
   "id": "35632aff",
   "metadata": {},
   "source": [
    "# 17. Change the value of a key in a given dictionary.\n",
    "Write a Python program to change ‘age’ to 28 in the following dictionary.\n",
    "Dict = { \"name\": \"Shakil\", \"age\":27, \"city\": “Berlin”, \"country\": \"Germany\" }"
   ]
  },
  {
   "cell_type": "code",
   "execution_count": 5,
   "id": "034556c1",
   "metadata": {},
   "outputs": [
    {
     "name": "stdout",
     "output_type": "stream",
     "text": [
      "{'name': 'Shakil', 'age': 28, 'city': 'Berlin', 'country': 'Germany'}\n"
     ]
    }
   ],
   "source": [
    "Dict = {\"name\": \"Shakil\", \"age\": 27, \"city\": \"Berlin\", \"country\": \"Germany\"}\n",
    "\n",
    "Dict['age'] = 28\n",
    "\n",
    "print(Dict)"
   ]
  },
  {
   "cell_type": "code",
   "execution_count": null,
   "id": "6eb475ac",
   "metadata": {},
   "outputs": [],
   "source": []
  }
 ],
 "metadata": {
  "kernelspec": {
   "display_name": "Python 3 (ipykernel)",
   "language": "python",
   "name": "python3"
  },
  "language_info": {
   "codemirror_mode": {
    "name": "ipython",
    "version": 3
   },
   "file_extension": ".py",
   "mimetype": "text/x-python",
   "name": "python",
   "nbconvert_exporter": "python",
   "pygments_lexer": "ipython3",
   "version": "3.9.13"
  }
 },
 "nbformat": 4,
 "nbformat_minor": 5
}
